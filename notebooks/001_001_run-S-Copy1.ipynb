{
 "cells": [
  {
   "cell_type": "code",
   "execution_count": 1,
   "id": "0c996f31",
   "metadata": {
    "ExecuteTime": {
     "end_time": "2022-11-28T10:34:55.581023Z",
     "start_time": "2022-11-28T10:34:55.579242Z"
    }
   },
   "outputs": [],
   "source": [
    "import os\n",
    "os.sys.path.append('..')"
   ]
  },
  {
   "cell_type": "code",
   "execution_count": 2,
   "id": "23a27691",
   "metadata": {
    "ExecuteTime": {
     "end_time": "2022-11-28T10:34:55.611369Z",
     "start_time": "2022-11-28T10:34:55.581779Z"
    }
   },
   "outputs": [],
   "source": [
    "import warnings\n",
    "warnings.simplefilter(\"ignore\")\n",
    "\n",
    "# autoreload import your package\n",
    "%load_ext autoreload\n",
    "%autoreload 2"
   ]
  },
  {
   "cell_type": "code",
   "execution_count": 3,
   "id": "e60bfdb0",
   "metadata": {
    "ExecuteTime": {
     "end_time": "2022-11-28T10:34:55.633532Z",
     "start_time": "2022-11-28T10:34:55.612568Z"
    }
   },
   "outputs": [],
   "source": [
    "from loguru import logger\n",
    "logger.remove()\n",
    "logger.add(os.sys.stdout, level=\"ERROR\", colorize=True, format=\"<level>{time} | {message}</level>\")\n",
    "# import_dir(ta_dir, verbose=False)\n",
    "warnings.simplefilter(\"ignore\")"
   ]
  },
  {
   "cell_type": "code",
   "execution_count": 4,
   "id": "d52338d2",
   "metadata": {
    "ExecuteTime": {
     "end_time": "2022-11-28T10:34:56.339147Z",
     "start_time": "2022-11-28T10:34:55.634385Z"
    }
   },
   "outputs": [],
   "source": [
    "import torch\n",
    "import pandas as pd\n",
    "from matplotlib import pyplot as plt\n",
    "%matplotlib inline"
   ]
  },
  {
   "cell_type": "markdown",
   "id": "20d78524",
   "metadata": {},
   "source": [
    "# Args"
   ]
  },
  {
   "cell_type": "code",
   "execution_count": 5,
   "id": "750cdcc3",
   "metadata": {
    "ExecuteTime": {
     "end_time": "2022-11-28T10:34:56.600001Z",
     "start_time": "2022-11-28T10:34:56.340104Z"
    }
   },
   "outputs": [],
   "source": [
    "from run import set_seed, get_args, Exp_Main"
   ]
  },
  {
   "cell_type": "code",
   "execution_count": 7,
   "id": "b3a40300",
   "metadata": {
    "ExecuteTime": {
     "end_time": "2022-11-28T10:37:28.005707Z",
     "start_time": "2022-11-28T10:35:02.162141Z"
    }
   },
   "outputs": [
    {
     "name": "stdout",
     "output_type": "stream",
     "text": [
      "Args in experiment:\n",
      "Namespace(K=0, activation='sigmoid', batch_size=32, c_out=1, checkpoints='./checkpoints/', d_ff=2048, d_layers=2, d_model=512, damping_learning_rate=0, data='custom', data_path='exchange_rate.csv', dec_in=7, des=\"'Exp'\", devices='0,1,2,3', dropout=0.2, e_layers=2, embed='timeF', enc_in=1, features='S', freq='h', gpu=0, itr=1, label_len=0, learning_rate=0.0003, lradj='exponential_with_warmup', min_lr=1e-30, model='ETSformer', model_id='Exchange', n_heads=16, num_workers=0, optim='adam', output_attention=False, patience=5, pred_len=96, root_path='../dataset/exchange_rate/', seq_len=512, smoothing_learning_rate=0, std=0.2, target='OT', train_epochs=15, use_gpu=True, use_multi_gpu=False, warmup_epochs=3)\n",
      "Use GPU: cuda:0\n",
      ">>>>>>>start training : Exchange_ETSformer_custom_ftS_sl512_pl96_dm512_nh16_el2_dl2_df2048_K0_lr0.0003_'Exp'_0>>>>>>>>>>>>>>>>>>>>>>>>>>\n",
      "train 4704\n",
      "val 665\n",
      "test 1422\n"
     ]
    },
    {
     "data": {
      "application/vnd.jupyter.widget-view+json": {
       "model_id": "db46d457567743ffb1475b58fba74214",
       "version_major": 2,
       "version_minor": 0
      },
      "text/plain": [
       "  0%|          | 0/15 [00:00<?, ?epoch/s]"
      ]
     },
     "metadata": {},
     "output_type": "display_data"
    },
    {
     "data": {
      "application/vnd.jupyter.widget-view+json": {
       "model_id": "",
       "version_major": 2,
       "version_minor": 0
      },
      "text/plain": [
       "train:   0%|          | 0/147 [00:00<?, ?it/s]"
      ]
     },
     "metadata": {},
     "output_type": "display_data"
    },
    {
     "name": "stdout",
     "output_type": "stream",
     "text": [
      "Epoch: 1, Steps: 147 | Train Loss: 0.3748532 Vali Loss: 0.1615645 Test Loss: 0.0973958\n",
      "Validation loss decreased (inf --> 0.161564).  Saving model ...\n",
      "Updating learning rate to 7.5e-05\n"
     ]
    },
    {
     "data": {
      "application/vnd.jupyter.widget-view+json": {
       "model_id": "",
       "version_major": 2,
       "version_minor": 0
      },
      "text/plain": [
       "train:   0%|          | 0/147 [00:00<?, ?it/s]"
      ]
     },
     "metadata": {},
     "output_type": "display_data"
    },
    {
     "name": "stdout",
     "output_type": "stream",
     "text": [
      "Epoch: 2, Steps: 147 | Train Loss: 0.2502263 Vali Loss: 0.1444328 Test Loss: 0.0987149\n",
      "Validation loss decreased (0.161564 --> 0.144433).  Saving model ...\n",
      "Updating learning rate to 0.00015\n"
     ]
    },
    {
     "data": {
      "application/vnd.jupyter.widget-view+json": {
       "model_id": "",
       "version_major": 2,
       "version_minor": 0
      },
      "text/plain": [
       "train:   0%|          | 0/147 [00:00<?, ?it/s]"
      ]
     },
     "metadata": {},
     "output_type": "display_data"
    },
    {
     "name": "stdout",
     "output_type": "stream",
     "text": [
      "Epoch: 3, Steps: 147 | Train Loss: 0.2464321 Vali Loss: 0.1438236 Test Loss: 0.0948109\n",
      "Validation loss decreased (0.144433 --> 0.143824).  Saving model ...\n",
      "Updating learning rate to 0.000225\n"
     ]
    },
    {
     "data": {
      "application/vnd.jupyter.widget-view+json": {
       "model_id": "",
       "version_major": 2,
       "version_minor": 0
      },
      "text/plain": [
       "train:   0%|          | 0/147 [00:00<?, ?it/s]"
      ]
     },
     "metadata": {},
     "output_type": "display_data"
    },
    {
     "name": "stdout",
     "output_type": "stream",
     "text": [
      "Epoch: 4, Steps: 147 | Train Loss: 0.2674658 Vali Loss: 0.1382710 Test Loss: 0.1000110\n",
      "Validation loss decreased (0.143824 --> 0.138271).  Saving model ...\n",
      "Updating learning rate to 0.0003\n"
     ]
    },
    {
     "data": {
      "application/vnd.jupyter.widget-view+json": {
       "model_id": "",
       "version_major": 2,
       "version_minor": 0
      },
      "text/plain": [
       "train:   0%|          | 0/147 [00:00<?, ?it/s]"
      ]
     },
     "metadata": {},
     "output_type": "display_data"
    },
    {
     "name": "stdout",
     "output_type": "stream",
     "text": [
      "Epoch: 5, Steps: 147 | Train Loss: 0.2459421 Vali Loss: 0.1538529 Test Loss: 0.0921839\n",
      "EarlyStopping counter: 1 out of 5\n",
      "Updating learning rate to 0.00015\n"
     ]
    },
    {
     "data": {
      "application/vnd.jupyter.widget-view+json": {
       "model_id": "",
       "version_major": 2,
       "version_minor": 0
      },
      "text/plain": [
       "train:   0%|          | 0/147 [00:00<?, ?it/s]"
      ]
     },
     "metadata": {},
     "output_type": "display_data"
    },
    {
     "name": "stdout",
     "output_type": "stream",
     "text": [
      "Epoch: 6, Steps: 147 | Train Loss: 0.2457922 Vali Loss: 0.1407998 Test Loss: 0.0951631\n",
      "EarlyStopping counter: 2 out of 5\n",
      "Updating learning rate to 7.5e-05\n"
     ]
    },
    {
     "data": {
      "application/vnd.jupyter.widget-view+json": {
       "model_id": "",
       "version_major": 2,
       "version_minor": 0
      },
      "text/plain": [
       "train:   0%|          | 0/147 [00:00<?, ?it/s]"
      ]
     },
     "metadata": {},
     "output_type": "display_data"
    },
    {
     "name": "stdout",
     "output_type": "stream",
     "text": [
      "Epoch: 7, Steps: 147 | Train Loss: 0.2461400 Vali Loss: 0.1385264 Test Loss: 0.0990372\n",
      "EarlyStopping counter: 3 out of 5\n",
      "Updating learning rate to 3.75e-05\n"
     ]
    },
    {
     "data": {
      "application/vnd.jupyter.widget-view+json": {
       "model_id": "",
       "version_major": 2,
       "version_minor": 0
      },
      "text/plain": [
       "train:   0%|          | 0/147 [00:00<?, ?it/s]"
      ]
     },
     "metadata": {},
     "output_type": "display_data"
    },
    {
     "name": "stdout",
     "output_type": "stream",
     "text": [
      "Epoch: 8, Steps: 147 | Train Loss: 0.2535853 Vali Loss: 0.1401822 Test Loss: 0.0943378\n",
      "EarlyStopping counter: 4 out of 5\n",
      "Updating learning rate to 1.875e-05\n"
     ]
    },
    {
     "data": {
      "application/vnd.jupyter.widget-view+json": {
       "model_id": "",
       "version_major": 2,
       "version_minor": 0
      },
      "text/plain": [
       "train:   0%|          | 0/147 [00:00<?, ?it/s]"
      ]
     },
     "metadata": {},
     "output_type": "display_data"
    },
    {
     "name": "stdout",
     "output_type": "stream",
     "text": [
      "Epoch: 9, Steps: 147 | Train Loss: 0.2532325 Vali Loss: 0.1394154 Test Loss: 0.0949533\n",
      "EarlyStopping counter: 5 out of 5\n",
      "Early stopping\n",
      ">>>>>>>testing : Exchange_ETSformer_custom_ftS_sl512_pl96_dm512_nh16_el2_dl2_df2048_K0_lr0.0003_'Exp'_0<<<<<<<<<<<<<<<<<<<<<<<<<<<<<<<<<\n",
      "val 665\n",
      "loading model\n"
     ]
    },
    {
     "data": {
      "application/vnd.jupyter.widget-view+json": {
       "model_id": "",
       "version_major": 2,
       "version_minor": 0
      },
      "text/plain": [
       "  0%|          | 0/20 [00:00<?, ?it/s]"
      ]
     },
     "metadata": {},
     "output_type": "display_data"
    },
    {
     "name": "stdout",
     "output_type": "stream",
     "text": [
      "test shape: (20, 32, 96, 1) (20, 32, 96, 1)\n",
      "test shape: (640, 96, 1) (640, 96, 1)\n",
      "mse:0.13797499239444733, mae:0.29500773549079895\n",
      "test 1422\n",
      "loading model\n"
     ]
    },
    {
     "data": {
      "application/vnd.jupyter.widget-view+json": {
       "model_id": "",
       "version_major": 2,
       "version_minor": 0
      },
      "text/plain": [
       "  0%|          | 0/44 [00:00<?, ?it/s]"
      ]
     },
     "metadata": {},
     "output_type": "display_data"
    },
    {
     "name": "stdout",
     "output_type": "stream",
     "text": [
      "test shape: (44, 32, 96, 1) (44, 32, 96, 1)\n",
      "test shape: (1408, 96, 1) (1408, 96, 1)\n",
      "mse:0.10001101344823837, mae:0.2315286099910736\n"
     ]
    }
   ],
   "source": [
    "# mimic cli args to avoid code duplication\n",
    "argv = \"\"\"python -u run.py \\\n",
    "  --root_path ../dataset/exchange_rate/ \\\n",
    "  --data_path exchange_rate.csv \\\n",
    "  --data custom \\\n",
    "  --checkpoints ./checkpoints/ \\\n",
    "  --model_id Exchange \\\n",
    "  --model ETSformer \\\n",
    "  --data custom \\\n",
    "  --features S \\\n",
    "  --seq_len 512 \\\n",
    "  --pred_len 96 \\\n",
    "  --e_layers 2 \\\n",
    "  --d_layers 2 \\\n",
    "  --d_model 512 \\\n",
    "  --d_ff 2048 \\\n",
    "  --n_heads 16 \\\n",
    "  --dropout 0.2 \\\n",
    "  --enc_in 1 \\\n",
    "  --c_out 1 \\\n",
    "  --num_workers 0 \\\n",
    "  --des 'Exp' \\\n",
    "  --K 0 \\\n",
    "  --learning_rate 3e-4 \\\n",
    "  --itr 1\n",
    "\"\"\"\n",
    "argv = argv.replace(\"\\\\n\", \"\").split()[3:]\n",
    "args = get_args(argv)\n",
    "args\n",
    "\n",
    "\n",
    "Exp = Exp_Main\n",
    "ii=0\n",
    "set_seed(ii)\n",
    "# setting record of experiments\n",
    "setting = '{}_{}_{}_ft{}_sl{}_pl{}_dm{}_nh{}_el{}_dl{}_df{}_K{}_lr{}_{}_{}'.format(\n",
    "    args.model_id,\n",
    "    args.model,\n",
    "    args.data,\n",
    "    args.features,\n",
    "    args.seq_len,\n",
    "    args.pred_len,\n",
    "    args.d_model,\n",
    "    args.n_heads,\n",
    "    args.e_layers,\n",
    "    args.d_layers,\n",
    "    args.d_ff,\n",
    "    args.K,\n",
    "    args.learning_rate,\n",
    "    args.des, ii)\n",
    "\n",
    "# if os.path.exists(os.path.join(args.checkpoints, setting)):\n",
    "#     print('skipping exists')\n",
    "#     continue\n",
    "\n",
    "exp = Exp(args)  # set experiments\n",
    "print('>>>>>>>start training : {}>>>>>>>>>>>>>>>>>>>>>>>>>>'.format(setting))\n",
    "exp.train(setting)\n",
    "\n",
    "print('>>>>>>>testing : {}<<<<<<<<<<<<<<<<<<<<<<<<<<<<<<<<<'.format(setting))\n",
    "exp.test(setting, data='val')\n",
    "exp.test(setting, data='test')\n",
    "\n",
    "torch.cuda.empty_cache()"
   ]
  },
  {
   "cell_type": "code",
   "execution_count": 23,
   "id": "a4576bab",
   "metadata": {
    "ExecuteTime": {
     "end_time": "2022-11-28T10:40:35.984019Z",
     "start_time": "2022-11-28T10:40:35.785399Z"
    }
   },
   "outputs": [
    {
     "data": {
      "text/plain": [
       "ETSformer(\n",
       "  (enc_embedding): ETSEmbedding(\n",
       "    (conv): Conv1d(1, 512, kernel_size=(3,), stride=(1,), padding=(2,), bias=False)\n",
       "    (dropout): Dropout(p=0.2, inplace=False)\n",
       "  )\n",
       "  (encoder): Encoder(\n",
       "    (layers): ModuleList(\n",
       "      (0): EncoderLayer(\n",
       "        (growth_layer): GrowthLayer(\n",
       "          (in_proj): Linear(in_features=512, out_features=512, bias=True)\n",
       "          (es): ExponentialSmoothing(\n",
       "            (dropout): Dropout(p=0.2, inplace=False)\n",
       "          )\n",
       "          (out_proj): Linear(in_features=512, out_features=512, bias=True)\n",
       "        )\n",
       "        (seasonal_layer): FourierLayer()\n",
       "        (level_layer): LevelLayer(\n",
       "          (es): ExponentialSmoothing(\n",
       "            (dropout): Dropout(p=0.2, inplace=False)\n",
       "            (aux_dropout): Dropout(p=0.2, inplace=False)\n",
       "          )\n",
       "          (growth_pred): Linear(in_features=512, out_features=1, bias=True)\n",
       "          (season_pred): Linear(in_features=512, out_features=1, bias=True)\n",
       "        )\n",
       "        (ff): Feedforward(\n",
       "          (linear1): Linear(in_features=512, out_features=2048, bias=False)\n",
       "          (dropout1): Dropout(p=0.2, inplace=False)\n",
       "          (linear2): Linear(in_features=2048, out_features=512, bias=False)\n",
       "          (dropout2): Dropout(p=0.2, inplace=False)\n",
       "        )\n",
       "        (norm1): LayerNorm((512,), eps=1e-05, elementwise_affine=True)\n",
       "        (norm2): LayerNorm((512,), eps=1e-05, elementwise_affine=True)\n",
       "        (dropout1): Dropout(p=0.2, inplace=False)\n",
       "        (dropout2): Dropout(p=0.2, inplace=False)\n",
       "      )\n",
       "      (1): EncoderLayer(\n",
       "        (growth_layer): GrowthLayer(\n",
       "          (in_proj): Linear(in_features=512, out_features=512, bias=True)\n",
       "          (es): ExponentialSmoothing(\n",
       "            (dropout): Dropout(p=0.2, inplace=False)\n",
       "          )\n",
       "          (out_proj): Linear(in_features=512, out_features=512, bias=True)\n",
       "        )\n",
       "        (seasonal_layer): FourierLayer()\n",
       "        (level_layer): LevelLayer(\n",
       "          (es): ExponentialSmoothing(\n",
       "            (dropout): Dropout(p=0.2, inplace=False)\n",
       "            (aux_dropout): Dropout(p=0.2, inplace=False)\n",
       "          )\n",
       "          (growth_pred): Linear(in_features=512, out_features=1, bias=True)\n",
       "          (season_pred): Linear(in_features=512, out_features=1, bias=True)\n",
       "        )\n",
       "        (ff): Feedforward(\n",
       "          (linear1): Linear(in_features=512, out_features=2048, bias=False)\n",
       "          (dropout1): Dropout(p=0.2, inplace=False)\n",
       "          (linear2): Linear(in_features=2048, out_features=512, bias=False)\n",
       "          (dropout2): Dropout(p=0.2, inplace=False)\n",
       "        )\n",
       "        (norm1): LayerNorm((512,), eps=1e-05, elementwise_affine=True)\n",
       "        (norm2): LayerNorm((512,), eps=1e-05, elementwise_affine=True)\n",
       "        (dropout1): Dropout(p=0.2, inplace=False)\n",
       "        (dropout2): Dropout(p=0.2, inplace=False)\n",
       "      )\n",
       "    )\n",
       "  )\n",
       "  (decoder): Decoder(\n",
       "    (layers): ModuleList(\n",
       "      (0): DecoderLayer(\n",
       "        (growth_damping): DampingLayer(\n",
       "          (dropout): Dropout(p=0.2, inplace=False)\n",
       "        )\n",
       "        (dropout1): Dropout(p=0.2, inplace=False)\n",
       "      )\n",
       "      (1): DecoderLayer(\n",
       "        (growth_damping): DampingLayer(\n",
       "          (dropout): Dropout(p=0.2, inplace=False)\n",
       "        )\n",
       "        (dropout1): Dropout(p=0.2, inplace=False)\n",
       "      )\n",
       "    )\n",
       "    (pred): Linear(in_features=512, out_features=1, bias=True)\n",
       "  )\n",
       ")"
      ]
     },
     "execution_count": 23,
     "metadata": {},
     "output_type": "execute_result"
    }
   ],
   "source": [
    "exp.model"
   ]
  },
  {
   "cell_type": "markdown",
   "id": "72811788",
   "metadata": {
    "ExecuteTime": {
     "end_time": "2022-11-28T05:28:20.356399Z",
     "start_time": "2022-11-28T05:28:20.339961Z"
    }
   },
   "source": [
    "# Plot"
   ]
  },
  {
   "cell_type": "code",
   "execution_count": 24,
   "id": "92b67ed7",
   "metadata": {
    "ExecuteTime": {
     "end_time": "2022-11-28T10:40:36.108906Z",
     "start_time": "2022-11-28T10:40:36.094911Z"
    }
   },
   "outputs": [
    {
     "data": {
      "text/plain": [
       "\"Exchange_ETSformer_custom_ftS_sl512_pl96_dm512_nh16_el2_dl2_df2048_K0_lr0.0003_'Exp'_0\""
      ]
     },
     "execution_count": 24,
     "metadata": {},
     "output_type": "execute_result"
    }
   ],
   "source": [
    "setting"
   ]
  },
  {
   "cell_type": "code",
   "execution_count": 25,
   "id": "ebea79f7",
   "metadata": {
    "ExecuteTime": {
     "end_time": "2022-11-28T10:40:36.262065Z",
     "start_time": "2022-11-28T10:40:36.238265Z"
    }
   },
   "outputs": [
    {
     "name": "stdout",
     "output_type": "stream",
     "text": [
      "test 1422\n"
     ]
    }
   ],
   "source": [
    "ds, dl = exp._get_data('test')"
   ]
  },
  {
   "cell_type": "code",
   "execution_count": 26,
   "id": "9833f218",
   "metadata": {
    "ExecuteTime": {
     "end_time": "2022-11-28T10:40:37.974021Z",
     "start_time": "2022-11-28T10:40:36.394340Z"
    }
   },
   "outputs": [
    {
     "name": "stdout",
     "output_type": "stream",
     "text": [
      "test 1422\n",
      "loading model\n"
     ]
    },
    {
     "data": {
      "application/vnd.jupyter.widget-view+json": {
       "model_id": "",
       "version_major": 2,
       "version_minor": 0
      },
      "text/plain": [
       "  0%|          | 0/44 [00:00<?, ?it/s]"
      ]
     },
     "metadata": {},
     "output_type": "display_data"
    },
    {
     "name": "stdout",
     "output_type": "stream",
     "text": [
      "test shape: (44, 32, 96, 1) (44, 32, 96, 1)\n",
      "test shape: (1408, 96, 1) (1408, 96, 1)\n",
      "mse:0.09427478909492493, mae:0.23262830078601837\n"
     ]
    }
   ],
   "source": [
    "preds, trues = exp.test(setting, data='test')"
   ]
  },
  {
   "cell_type": "code",
   "execution_count": 27,
   "id": "658546f2",
   "metadata": {
    "ExecuteTime": {
     "end_time": "2022-11-28T10:40:37.987615Z",
     "start_time": "2022-11-28T10:40:37.975192Z"
    }
   },
   "outputs": [],
   "source": [
    "%matplotlib inline"
   ]
  },
  {
   "cell_type": "code",
   "execution_count": 28,
   "id": "5c88dbf7",
   "metadata": {
    "ExecuteTime": {
     "end_time": "2022-11-28T10:40:38.098854Z",
     "start_time": "2022-11-28T10:40:37.988519Z"
    }
   },
   "outputs": [
    {
     "data": {
      "text/plain": [
       "<matplotlib.legend.Legend at 0x7f66f8eaeee0>"
      ]
     },
     "execution_count": 28,
     "metadata": {},
     "output_type": "execute_result"
    },
    {
     "data": {
      "image/png": "[encoded data removed]",
      "text/plain": [
       "<Figure size 640x480 with 1 Axes>"
      ]
     },
     "metadata": {},
     "output_type": "display_data"
    }
   ],
   "source": [
    "i=99\n",
    "(batch_x, batch_y, batch_x_mark, batch_y_mark)  = ds[i]\n",
    "l1 = batch_x.shape[0]\n",
    "l2 = batch_y.shape[0]\n",
    "plt.plot(range(l1), batch_x[:, -1], label='past')\n",
    "plt.plot(range(l1, l1+l2), batch_y[:, -1], color='blue', ls='--', label='true')\n",
    "plt.plot(range(l1, l1+l2), preds[i], label='pred');\n",
    "plt.legend(loc='lower left')"
   ]
  },
  {
   "cell_type": "code",
   "execution_count": null,
   "id": "0a25923b",
   "metadata": {
    "ExecuteTime": {
     "end_time": "2022-11-28T07:33:57.703528Z",
     "start_time": "2022-11-28T07:33:57.689258Z"
    }
   },
   "outputs": [],
   "source": []
  },
  {
   "cell_type": "markdown",
   "id": "665b98c3",
   "metadata": {},
   "source": [
    "# TODO check index"
   ]
  },
  {
   "cell_type": "markdown",
   "id": "fc6ff0cd",
   "metadata": {},
   "source": [
    "- s_end = index + self.seq_len\n",
    "- r_begin = index + self.seq_len - self.label_len\n",
    "- r_end = index + self.seq_len + self.pred_len"
   ]
  },
  {
   "cell_type": "code",
   "execution_count": null,
   "id": "f482f601",
   "metadata": {
    "ExecuteTime": {
     "end_time": "2022-11-28T10:34:56.644236Z",
     "start_time": "2022-11-28T10:34:56.644230Z"
    },
    "scrolled": true
   },
   "outputs": [],
   "source": [
    "f = ds.root_path + '/' + ds.data_path\n",
    "df = pd.read_csv(f).set_index('date', drop=False)\n",
    "df = df[ds.cols[1:]]\n",
    "# df[:] = ds.scaler.transform(df.values)\n",
    "df\n",
    "# df"
   ]
  },
  {
   "cell_type": "code",
   "execution_count": null,
   "id": "1893beae",
   "metadata": {
    "ExecuteTime": {
     "end_time": "2022-11-28T10:34:56.644919Z",
     "start_time": "2022-11-28T10:34:56.644913Z"
    }
   },
   "outputs": [],
   "source": [
    "from data_provider.data_loader import Dataset_Custom\n",
    "ds2 = Dataset_Custom(\n",
    "    ds.root_path,\n",
    "    flag=\"test\",\n",
    "#     size=ds.size,\n",
    "    size=[ds.seq_len, ds.label_len, ds.pred_len],\n",
    "    features=ds.features,\n",
    "    data_path=ds.data_path,\n",
    "    target=ds.target,\n",
    "    scale=False,\n",
    "    timeenc=ds.timeenc,\n",
    "    freq=ds.freq\n",
    ")\n",
    "\n",
    "i=99\n",
    "(batch_x, batch_y, batch_x_mark, batch_y_mark)  = ds2[i]\n",
    "batch_x[-1]"
   ]
  },
  {
   "cell_type": "code",
   "execution_count": null,
   "id": "f0a63562",
   "metadata": {
    "ExecuteTime": {
     "end_time": "2022-11-28T10:34:56.645465Z",
     "start_time": "2022-11-28T10:34:56.645459Z"
    }
   },
   "outputs": [],
   "source": [
    "dt = ds2.index.iloc[i-1]\n",
    "df.loc[dt]"
   ]
  },
  {
   "cell_type": "code",
   "execution_count": null,
   "id": "65c56ec5",
   "metadata": {
    "ExecuteTime": {
     "end_time": "2022-11-28T10:34:56.646111Z",
     "start_time": "2022-11-28T10:34:56.646104Z"
    }
   },
   "outputs": [],
   "source": [
    "assert df.loc[dt].close == batch_x[-1, 0], 'index should be right'\n",
    "'OK'"
   ]
  },
  {
   "cell_type": "code",
   "execution_count": null,
   "id": "692aadfa",
   "metadata": {},
   "outputs": [],
   "source": []
  },
  {
   "cell_type": "code",
   "execution_count": null,
   "id": "2dd11010",
   "metadata": {},
   "outputs": [],
   "source": []
  },
  {
   "cell_type": "code",
   "execution_count": null,
   "id": "e4413025",
   "metadata": {},
   "outputs": [],
   "source": []
  }
 ],
 "metadata": {
  "kernelspec": {
   "display_name": "deeptime",
   "language": "python",
   "name": "deeptime"
  },
  "language_info": {
   "codemirror_mode": {
    "name": "ipython",
    "version": 3
   },
   "file_extension": ".py",
   "mimetype": "text/x-python",
   "name": "python",
   "nbconvert_exporter": "python",
   "pygments_lexer": "ipython3",
   "version": "3.8.13"
  },
  "toc": {
   "base_numbering": 1,
   "nav_menu": {},
   "number_sections": true,
   "sideBar": true,
   "skip_h1_title": false,
   "title_cell": "Table of Contents",
   "title_sidebar": "Contents",
   "toc_cell": false,
   "toc_position": {},
   "toc_section_display": true,
   "toc_window_display": false
  }
 },
 "nbformat": 4,
 "nbformat_minor": 5
}
