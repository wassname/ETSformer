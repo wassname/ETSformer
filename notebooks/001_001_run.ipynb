{
 "cells": [
  {
   "cell_type": "code",
   "execution_count": 1,
   "id": "1d040af6",
   "metadata": {
    "ExecuteTime": {
     "end_time": "2022-11-28T05:46:17.187327Z",
     "start_time": "2022-11-28T05:46:17.185131Z"
    }
   },
   "outputs": [],
   "source": [
    "import os\n",
    "os.sys.path.append('..')"
   ]
  },
  {
   "cell_type": "code",
   "execution_count": 2,
   "id": "cab28167",
   "metadata": {
    "ExecuteTime": {
     "end_time": "2022-11-28T05:46:17.217163Z",
     "start_time": "2022-11-28T05:46:17.188560Z"
    }
   },
   "outputs": [],
   "source": [
    "import warnings\n",
    "warnings.simplefilter(\"ignore\")\n",
    "\n",
    "# autoreload import your package\n",
    "%load_ext autoreload\n",
    "%autoreload 2"
   ]
  },
  {
   "cell_type": "code",
   "execution_count": 3,
   "id": "556c42a6",
   "metadata": {
    "ExecuteTime": {
     "end_time": "2022-11-28T05:46:17.237413Z",
     "start_time": "2022-11-28T05:46:17.218193Z"
    }
   },
   "outputs": [],
   "source": [
    "from loguru import logger\n",
    "logger.remove()\n",
    "logger.add(os.sys.stdout, level=\"ERROR\", colorize=True, format=\"<level>{time} | {message}</level>\")\n",
    "# import_dir(ta_dir, verbose=False)\n",
    "warnings.simplefilter(\"ignore\")"
   ]
  },
  {
   "cell_type": "markdown",
   "id": "533ea89c",
   "metadata": {},
   "source": [
    "# Args"
   ]
  },
  {
   "cell_type": "code",
   "execution_count": 4,
   "id": "67547b3d",
   "metadata": {
    "ExecuteTime": {
     "end_time": "2022-11-28T05:46:18.208460Z",
     "start_time": "2022-11-28T05:46:17.239067Z"
    }
   },
   "outputs": [],
   "source": [
    "from run import set_seed, get_args, Exp_Main"
   ]
  },
  {
   "cell_type": "code",
   "execution_count": 5,
   "id": "313dc79a",
   "metadata": {
    "ExecuteTime": {
     "end_time": "2022-11-28T05:46:18.229834Z",
     "start_time": "2022-11-28T05:46:18.209523Z"
    }
   },
   "outputs": [
    {
     "name": "stdout",
     "output_type": "stream",
     "text": [
      "Args in experiment:\n",
      "Namespace(K=0, activation='sigmoid', batch_size=32, c_out=1, checkpoints='./checkpoints/', d_ff=2048, d_layers=2, d_model=512, damping_learning_rate=0, data='custom', data_path='OXY_2019.csv.gz', dec_in=12, des=\"'Exp'\", devices='0,1,2,3', dropout=0.2, e_layers=2, embed='timeF', enc_in=12, features='M', freq='h', gpu=0, itr=1, label_len=0, learning_rate=0.001, lradj='exponential_with_warmup', min_lr=1e-30, model='ETSformer', model_id='Exchange', n_heads=8, num_workers=10, optim='adam', output_attention=False, patience=5, pred_len=48, root_path='../dataset/stocks/', seq_len=128, smoothing_learning_rate=0, std=0.2, target='RSMKs_18_144_72_2ref_2ref', train_epochs=15, use_gpu=True, use_multi_gpu=False, warmup_epochs=3)\n"
     ]
    },
    {
     "data": {
      "text/plain": [
       "Namespace(K=0, activation='sigmoid', batch_size=32, c_out=1, checkpoints='./checkpoints/', d_ff=2048, d_layers=2, d_model=512, damping_learning_rate=0, data='custom', data_path='OXY_2019.csv.gz', dec_in=12, des=\"'Exp'\", devices='0,1,2,3', dropout=0.2, e_layers=2, embed='timeF', enc_in=12, features='M', freq='h', gpu=0, itr=1, label_len=0, learning_rate=0.001, lradj='exponential_with_warmup', min_lr=1e-30, model='ETSformer', model_id='Exchange', n_heads=8, num_workers=10, optim='adam', output_attention=False, patience=5, pred_len=48, root_path='../dataset/stocks/', seq_len=128, smoothing_learning_rate=0, std=0.2, target='RSMKs_18_144_72_2ref_2ref', train_epochs=15, use_gpu=True, use_multi_gpu=False, warmup_epochs=3)"
      ]
     },
     "execution_count": 5,
     "metadata": {},
     "output_type": "execute_result"
    }
   ],
   "source": [
    "# mimic cli args to avoid code duplication\n",
    "argv = \"\"\"python -u run.py \\\n",
    "  --root_path ../dataset/stocks/ \\\n",
    "  --data_path OXY_2019.csv.gz \\\n",
    "  --checkpoints ./checkpoints/ \\\n",
    "  --model_id Exchange \\\n",
    "  --model ETSformer \\\n",
    "  --data custom \\\n",
    "  --features M \\\n",
    "  --seq_len 128 \\\n",
    "  --pred_len 48 \\\n",
    "  --e_layers 2 \\\n",
    "  --d_layers 2 \\\n",
    "  --enc_in 12 \\\n",
    "  --dec_in 12 \\\n",
    "  --c_out 1 \\\n",
    "  --des 'Exp' \\\n",
    "  --K 0 \\\n",
    "  --learning_rate 1e-3 \\\n",
    "  --target RSMKs_18_144_72_2ref_2ref \\\n",
    "  --itr 1\n",
    "\"\"\"\n",
    "argv = argv.replace(\"\\\\n\", \"\").split()[3:]\n",
    "args = get_args(argv)\n",
    "args"
   ]
  },
  {
   "cell_type": "code",
   "execution_count": 6,
   "id": "232703ad",
   "metadata": {
    "ExecuteTime": {
     "end_time": "2022-11-28T05:46:18.253534Z",
     "start_time": "2022-11-28T05:46:18.230838Z"
    }
   },
   "outputs": [],
   "source": [
    "import torch"
   ]
  },
  {
   "cell_type": "code",
   "execution_count": 7,
   "id": "6bf4a662",
   "metadata": {
    "ExecuteTime": {
     "end_time": "2022-11-28T05:47:47.495770Z",
     "start_time": "2022-11-28T05:46:18.254440Z"
    }
   },
   "outputs": [
    {
     "name": "stdout",
     "output_type": "stream",
     "text": [
      "0\n",
      "Use GPU: cuda:0\n",
      ">>>>>>>start training : Exchange_ETSformer_custom_ftM_sl128_pl48_dm512_nh8_el2_dl2_df2048_K0_lr0.001_'Exp'_0>>>>>>>>>>>>>>>>>>>>>>>>>>\n",
      "train 37203\n",
      "val 5294\n",
      "test 10632\n"
     ]
    },
    {
     "data": {
      "application/vnd.jupyter.widget-view+json": {
       "model_id": "2d751538f3e247c2a91f791fa7baae23",
       "version_major": 2,
       "version_minor": 0
      },
      "text/plain": [
       "  0%|          | 0/15 [00:00<?, ?epoch/s]"
      ]
     },
     "metadata": {},
     "output_type": "display_data"
    },
    {
     "data": {
      "application/vnd.jupyter.widget-view+json": {
       "model_id": "",
       "version_major": 2,
       "version_minor": 0
      },
      "text/plain": [
       "train:   0%|          | 0/1162 [00:00<?, ?it/s]"
      ]
     },
     "metadata": {},
     "output_type": "display_data"
    },
    {
     "name": "stdout",
     "output_type": "stream",
     "text": [
      "Epoch: 1 cost time: 33.52427625656128\n",
      "Epoch: 1, Steps: 1162 | Train Loss: 0.2760431 Vali Loss: 0.0907234 Test Loss: 0.1297583\n",
      "Validation loss decreased (inf --> 0.090723).  Saving model ...\n",
      "Updating learning rate to 0.00025\n"
     ]
    },
    {
     "data": {
      "application/vnd.jupyter.widget-view+json": {
       "model_id": "",
       "version_major": 2,
       "version_minor": 0
      },
      "text/plain": [
       "train:   0%|          | 0/1162 [00:00<?, ?it/s]"
      ]
     },
     "metadata": {},
     "output_type": "display_data"
    },
    {
     "name": "stdout",
     "output_type": "stream",
     "text": [
      "Epoch: 2 cost time: 33.673935413360596\n",
      "Epoch: 2, Steps: 1162 | Train Loss: 0.2290657 Vali Loss: 0.0410995 Test Loss: 0.0603366\n",
      "Validation loss decreased (0.090723 --> 0.041100).  Saving model ...\n",
      "Updating learning rate to 0.0005\n"
     ]
    },
    {
     "data": {
      "application/vnd.jupyter.widget-view+json": {
       "model_id": "d80eecb04557428d97c625019b8efa7b",
       "version_major": 2,
       "version_minor": 0
      },
      "text/plain": [
       "train:   0%|          | 0/1162 [00:00<?, ?it/s]"
      ]
     },
     "metadata": {},
     "output_type": "display_data"
    },
    {
     "ename": "KeyboardInterrupt",
     "evalue": "",
     "output_type": "error",
     "traceback": [
      "\u001b[0;31m---------------------------------------------------------------------------\u001b[0m",
      "\u001b[0;31mKeyboardInterrupt\u001b[0m                         Traceback (most recent call last)",
      "Cell \u001b[0;32mIn [7], line 29\u001b[0m\n\u001b[1;32m     27\u001b[0m exp \u001b[38;5;241m=\u001b[39m Exp(args)  \u001b[38;5;66;03m# set experiments\u001b[39;00m\n\u001b[1;32m     28\u001b[0m \u001b[38;5;28mprint\u001b[39m(\u001b[38;5;124m'\u001b[39m\u001b[38;5;124m>>>>>>>start training : \u001b[39m\u001b[38;5;132;01m{}\u001b[39;00m\u001b[38;5;124m>>>>>>>>>>>>>>>>>>>>>>>>>>\u001b[39m\u001b[38;5;124m'\u001b[39m\u001b[38;5;241m.\u001b[39mformat(setting))\n\u001b[0;32m---> 29\u001b[0m \u001b[43mexp\u001b[49m\u001b[38;5;241;43m.\u001b[39;49m\u001b[43mtrain\u001b[49m\u001b[43m(\u001b[49m\u001b[43msetting\u001b[49m\u001b[43m)\u001b[49m\n\u001b[1;32m     31\u001b[0m \u001b[38;5;28mprint\u001b[39m(\u001b[38;5;124m'\u001b[39m\u001b[38;5;124m>>>>>>>testing : \u001b[39m\u001b[38;5;132;01m{}\u001b[39;00m\u001b[38;5;124m<<<<<<<<<<<<<<<<<<<<<<<<<<<<<<<<<\u001b[39m\u001b[38;5;124m'\u001b[39m\u001b[38;5;241m.\u001b[39mformat(setting))\n\u001b[1;32m     32\u001b[0m exp\u001b[38;5;241m.\u001b[39mtest(setting, data\u001b[38;5;241m=\u001b[39m\u001b[38;5;124m'\u001b[39m\u001b[38;5;124mval\u001b[39m\u001b[38;5;124m'\u001b[39m)\n",
      "File \u001b[0;32m/media/wassname/SGIronWolf/projects5/investing/ETSformer/notebooks/../exp/exp_main.py:165\u001b[0m, in \u001b[0;36mtrain\u001b[0;34m(self, setting)\u001b[0m\n\u001b[1;32m    163\u001b[0m \n\u001b[1;32m    164\u001b[0m \n\u001b[0;32m--> 165\u001b[0m loss.backward()\n\u001b[1;32m    166\u001b[0m torch.nn.utils.clip_grad_norm(self.model.parameters(), 1.0)\n\u001b[1;32m    167\u001b[0m model_optim.step()\n",
      "File \u001b[0;32m~/miniforge3/envs/deeptime/lib/python3.8/site-packages/torch/_tensor.py:307\u001b[0m, in \u001b[0;36mTensor.backward\u001b[0;34m(self, gradient, retain_graph, create_graph, inputs)\u001b[0m\n\u001b[1;32m    298\u001b[0m \u001b[38;5;28;01mif\u001b[39;00m has_torch_function_unary(\u001b[38;5;28mself\u001b[39m):\n\u001b[1;32m    299\u001b[0m     \u001b[38;5;28;01mreturn\u001b[39;00m handle_torch_function(\n\u001b[1;32m    300\u001b[0m         Tensor\u001b[38;5;241m.\u001b[39mbackward,\n\u001b[1;32m    301\u001b[0m         (\u001b[38;5;28mself\u001b[39m,),\n\u001b[0;32m   (...)\u001b[0m\n\u001b[1;32m    305\u001b[0m         create_graph\u001b[38;5;241m=\u001b[39mcreate_graph,\n\u001b[1;32m    306\u001b[0m         inputs\u001b[38;5;241m=\u001b[39minputs)\n\u001b[0;32m--> 307\u001b[0m \u001b[43mtorch\u001b[49m\u001b[38;5;241;43m.\u001b[39;49m\u001b[43mautograd\u001b[49m\u001b[38;5;241;43m.\u001b[39;49m\u001b[43mbackward\u001b[49m\u001b[43m(\u001b[49m\u001b[38;5;28;43mself\u001b[39;49m\u001b[43m,\u001b[49m\u001b[43m \u001b[49m\u001b[43mgradient\u001b[49m\u001b[43m,\u001b[49m\u001b[43m \u001b[49m\u001b[43mretain_graph\u001b[49m\u001b[43m,\u001b[49m\u001b[43m \u001b[49m\u001b[43mcreate_graph\u001b[49m\u001b[43m,\u001b[49m\u001b[43m \u001b[49m\u001b[43minputs\u001b[49m\u001b[38;5;241;43m=\u001b[39;49m\u001b[43minputs\u001b[49m\u001b[43m)\u001b[49m\n",
      "File \u001b[0;32m~/miniforge3/envs/deeptime/lib/python3.8/site-packages/torch/autograd/__init__.py:154\u001b[0m, in \u001b[0;36mbackward\u001b[0;34m(tensors, grad_tensors, retain_graph, create_graph, grad_variables, inputs)\u001b[0m\n\u001b[1;32m    151\u001b[0m \u001b[38;5;28;01mif\u001b[39;00m retain_graph \u001b[38;5;129;01mis\u001b[39;00m \u001b[38;5;28;01mNone\u001b[39;00m:\n\u001b[1;32m    152\u001b[0m     retain_graph \u001b[38;5;241m=\u001b[39m create_graph\n\u001b[0;32m--> 154\u001b[0m \u001b[43mVariable\u001b[49m\u001b[38;5;241;43m.\u001b[39;49m\u001b[43m_execution_engine\u001b[49m\u001b[38;5;241;43m.\u001b[39;49m\u001b[43mrun_backward\u001b[49m\u001b[43m(\u001b[49m\n\u001b[1;32m    155\u001b[0m \u001b[43m    \u001b[49m\u001b[43mtensors\u001b[49m\u001b[43m,\u001b[49m\u001b[43m \u001b[49m\u001b[43mgrad_tensors_\u001b[49m\u001b[43m,\u001b[49m\u001b[43m \u001b[49m\u001b[43mretain_graph\u001b[49m\u001b[43m,\u001b[49m\u001b[43m \u001b[49m\u001b[43mcreate_graph\u001b[49m\u001b[43m,\u001b[49m\u001b[43m \u001b[49m\u001b[43minputs\u001b[49m\u001b[43m,\u001b[49m\n\u001b[1;32m    156\u001b[0m \u001b[43m    \u001b[49m\u001b[43mallow_unreachable\u001b[49m\u001b[38;5;241;43m=\u001b[39;49m\u001b[38;5;28;43;01mTrue\u001b[39;49;00m\u001b[43m,\u001b[49m\u001b[43m \u001b[49m\u001b[43maccumulate_grad\u001b[49m\u001b[38;5;241;43m=\u001b[39;49m\u001b[38;5;28;43;01mTrue\u001b[39;49;00m\u001b[43m)\u001b[49m\n",
      "\u001b[0;31mKeyboardInterrupt\u001b[0m: "
     ]
    }
   ],
   "source": [
    "\n",
    "Exp = Exp_Main\n",
    "\n",
    "for ii in range(args.itr):\n",
    "    print(ii)\n",
    "    set_seed(ii)\n",
    "    # setting record of experiments\n",
    "    setting = '{}_{}_{}_ft{}_sl{}_pl{}_dm{}_nh{}_el{}_dl{}_df{}_K{}_lr{}_{}_{}'.format(\n",
    "        args.model_id,\n",
    "        args.model,\n",
    "        args.data,\n",
    "        args.features,\n",
    "        args.seq_len,\n",
    "        args.pred_len,\n",
    "        args.d_model,\n",
    "        args.n_heads,\n",
    "        args.e_layers,\n",
    "        args.d_layers,\n",
    "        args.d_ff,\n",
    "        args.K,\n",
    "        args.learning_rate,\n",
    "        args.des, ii)\n",
    "\n",
    "#     if os.path.exists(os.path.join(args.checkpoints, setting)):\n",
    "#         print('skipping exists')\n",
    "#         continue\n",
    "\n",
    "    exp = Exp(args)  # set experiments\n",
    "    print('>>>>>>>start training : {}>>>>>>>>>>>>>>>>>>>>>>>>>>'.format(setting))\n",
    "    exp.train(setting)\n",
    "\n",
    "    print('>>>>>>>testing : {}<<<<<<<<<<<<<<<<<<<<<<<<<<<<<<<<<'.format(setting))\n",
    "    exp.test(setting, data='val')\n",
    "    exp.test(setting, data='test')\n",
    "\n",
    "    torch.cuda.empty_cache()\n"
   ]
  },
  {
   "cell_type": "code",
   "execution_count": null,
   "id": "c8947845",
   "metadata": {
    "ExecuteTime": {
     "end_time": "2022-11-28T05:47:47.497131Z",
     "start_time": "2022-11-28T05:47:47.497124Z"
    }
   },
   "outputs": [],
   "source": [
    "# %debug"
   ]
  },
  {
   "cell_type": "markdown",
   "id": "b529496b",
   "metadata": {
    "ExecuteTime": {
     "end_time": "2022-11-28T05:28:20.356399Z",
     "start_time": "2022-11-28T05:28:20.339961Z"
    }
   },
   "source": [
    "# Plot"
   ]
  },
  {
   "cell_type": "code",
   "execution_count": 31,
   "id": "a07a10fd",
   "metadata": {
    "ExecuteTime": {
     "end_time": "2022-11-28T05:51:03.121425Z",
     "start_time": "2022-11-28T05:51:03.105672Z"
    }
   },
   "outputs": [],
   "source": [
    "import pandas as pd\n",
    "from matplotlib import pyplot as plt\n",
    "%matplotlib inline"
   ]
  },
  {
   "cell_type": "code",
   "execution_count": 9,
   "id": "a6267ce1",
   "metadata": {
    "ExecuteTime": {
     "end_time": "2022-11-28T05:48:08.164061Z",
     "start_time": "2022-11-28T05:48:08.146923Z"
    }
   },
   "outputs": [
    {
     "data": {
      "text/plain": [
       "\"Exchange_ETSformer_custom_ftM_sl128_pl48_dm512_nh8_el2_dl2_df2048_K0_lr0.001_'Exp'_0\""
      ]
     },
     "execution_count": 9,
     "metadata": {},
     "output_type": "execute_result"
    }
   ],
   "source": [
    "setting"
   ]
  },
  {
   "cell_type": "code",
   "execution_count": 10,
   "id": "bf69de77",
   "metadata": {
    "ExecuteTime": {
     "end_time": "2022-11-28T05:48:08.544320Z",
     "start_time": "2022-11-28T05:48:08.385744Z"
    }
   },
   "outputs": [
    {
     "name": "stdout",
     "output_type": "stream",
     "text": [
      "test 10632\n"
     ]
    }
   ],
   "source": [
    "ds, dl = exp._get_data('test')"
   ]
  },
  {
   "cell_type": "code",
   "execution_count": 22,
   "id": "51bde225",
   "metadata": {
    "ExecuteTime": {
     "end_time": "2022-11-28T05:49:46.339799Z",
     "start_time": "2022-11-28T05:49:41.251944Z"
    }
   },
   "outputs": [
    {
     "name": "stdout",
     "output_type": "stream",
     "text": [
      "test 10632\n",
      "loading model\n"
     ]
    },
    {
     "data": {
      "application/vnd.jupyter.widget-view+json": {
       "model_id": "",
       "version_major": 2,
       "version_minor": 0
      },
      "text/plain": [
       "  0%|          | 0/332 [00:00<?, ?it/s]"
      ]
     },
     "metadata": {},
     "output_type": "display_data"
    },
    {
     "name": "stdout",
     "output_type": "stream",
     "text": [
      "test shape: (332, 32, 48, 1) (332, 32, 48, 1)\n",
      "test shape: (10624, 48, 1) (10624, 48, 1)\n",
      "mse:0.060336604714393616, mae:0.16866351664066315\n"
     ]
    }
   ],
   "source": [
    "preds, trues = exp.test(setting, data='test')"
   ]
  },
  {
   "cell_type": "code",
   "execution_count": 148,
   "id": "11b1cea2",
   "metadata": {
    "ExecuteTime": {
     "end_time": "2022-11-28T06:10:15.902047Z",
     "start_time": "2022-11-28T06:10:15.887721Z"
    }
   },
   "outputs": [],
   "source": [
    "# i=50\n",
    "# (batch_x, batch_y, batch_x_mark, batch_y_mark)  = ds[i]\n",
    "# [x.shape for x in ds[10]]"
   ]
  },
  {
   "cell_type": "code",
   "execution_count": 147,
   "id": "87256601",
   "metadata": {
    "ExecuteTime": {
     "end_time": "2022-11-28T06:07:44.797009Z",
     "start_time": "2022-11-28T06:07:44.704337Z"
    }
   },
   "outputs": [
    {
     "data": {
      "text/plain": [
       "<matplotlib.legend.Legend at 0x7f4bdfaf6b50>"
      ]
     },
     "execution_count": 147,
     "metadata": {},
     "output_type": "execute_result"
    },
    {
     "data": {
      "image/png": "[encoded data removed]",
      "text/plain": [
       "<Figure size 640x480 with 1 Axes>"
      ]
     },
     "metadata": {},
     "output_type": "display_data"
    }
   ],
   "source": [
    "(batch_x, batch_y, batch_x_mark, batch_y_mark)  = ds[i]\n",
    "l1 = batch_x.shape[0]\n",
    "l2 = batch_y.shape[0]\n",
    "plt.plot(range(l1), batch_x[:, -1], label='past')\n",
    "plt.plot(range(l1, l1+l2), batch_y[:, -1], color='blue', ls='--', label='true')\n",
    "plt.plot(range(l1, l1+l2), preds[i], label='pred');\n",
    "plt.legend(loc='lower left')"
   ]
  },
  {
   "cell_type": "code",
   "execution_count": 23,
   "id": "61c13dcd",
   "metadata": {
    "ExecuteTime": {
     "end_time": "2022-11-28T05:49:46.470552Z",
     "start_time": "2022-11-28T05:49:46.341940Z"
    }
   },
   "outputs": [
    {
     "data": {
      "image/png": "[encoded data removed]",
      "text/plain": [
       "<Figure size 640x480 with 1 Axes>"
      ]
     },
     "metadata": {},
     "output_type": "display_data"
    }
   ],
   "source": [
    "plt.plot(preds[i]);\n",
    "plt.plot(trues[i]);"
   ]
  },
  {
   "cell_type": "code",
   "execution_count": 24,
   "id": "bf881537",
   "metadata": {
    "ExecuteTime": {
     "end_time": "2022-11-28T05:49:49.575579Z",
     "start_time": "2022-11-28T05:49:49.558663Z"
    }
   },
   "outputs": [
    {
     "data": {
      "text/plain": [
       "42767    2020-09-01 16:35:00\n",
       "42768    2020-09-01 16:40:00\n",
       "42769    2020-09-01 16:45:00\n",
       "42770    2020-09-01 16:50:00\n",
       "42771    2020-09-01 16:55:00\n",
       "                ...         \n",
       "53393    2020-12-31 17:35:00\n",
       "53394    2020-12-31 18:30:00\n",
       "53395    2020-12-31 19:15:00\n",
       "53396    2020-12-31 19:20:00\n",
       "53397    2020-12-31 19:55:00\n",
       "Name: date, Length: 10631, dtype: object"
      ]
     },
     "execution_count": 24,
     "metadata": {},
     "output_type": "execute_result"
    }
   ],
   "source": [
    "ds.index"
   ]
  },
  {
   "cell_type": "code",
   "execution_count": null,
   "id": "b1fecfd9",
   "metadata": {},
   "outputs": [],
   "source": []
  },
  {
   "cell_type": "code",
   "execution_count": 134,
   "id": "a8df30fd",
   "metadata": {
    "ExecuteTime": {
     "end_time": "2022-11-28T06:05:21.353091Z",
     "start_time": "2022-11-28T06:05:21.333893Z"
    }
   },
   "outputs": [
    {
     "data": {
      "text/plain": [
       "array([ 1.25000000e+01,  3.52880000e+02,  3.54100000e+01,  7.80450949e-01,\n",
       "        9.82722730e-01,  5.37977462e-01,  8.07709812e-02, -2.64457225e-01,\n",
       "       -1.43769087e-01,  4.38652607e-01,  1.86131098e-01, -3.70741650e+00])"
      ]
     },
     "execution_count": 134,
     "metadata": {},
     "output_type": "execute_result"
    }
   ],
   "source": [
    "(batch_x, batch_y, batch_x_mark, batch_y_mark)  = ds2[i]\n",
    "batch_x[-1]"
   ]
  },
  {
   "cell_type": "markdown",
   "id": "d8028473",
   "metadata": {},
   "source": [
    "# TODO check index"
   ]
  },
  {
   "cell_type": "code",
   "execution_count": 112,
   "id": "52419362",
   "metadata": {
    "ExecuteTime": {
     "end_time": "2022-11-28T06:01:04.184088Z",
     "start_time": "2022-11-28T06:01:04.013429Z"
    },
    "scrolled": true
   },
   "outputs": [
    {
     "data": {
      "text/html": [
       "<div>\n",
       "<style scoped>\n",
       "    .dataframe tbody tr th:only-of-type {\n",
       "        vertical-align: middle;\n",
       "    }\n",
       "\n",
       "    .dataframe tbody tr th {\n",
       "        vertical-align: top;\n",
       "    }\n",
       "\n",
       "    .dataframe thead th {\n",
       "        text-align: right;\n",
       "    }\n",
       "</style>\n",
       "<table border=\"1\" class=\"dataframe\">\n",
       "  <thead>\n",
       "    <tr style=\"text-align: right;\">\n",
       "      <th></th>\n",
       "      <th>close</th>\n",
       "      <th>ref_close</th>\n",
       "      <th>sec_close</th>\n",
       "      <th>RVOLs_50_12_2ref_2ref</th>\n",
       "      <th>MACDVs_3_10_9_2ref_2ref</th>\n",
       "      <th>MACDVs_8_24_9_2ref_2ref</th>\n",
       "      <th>RRVOLs_50_12_2ref_2ref</th>\n",
       "      <th>RSMKs_3_24_12_2ref_2ref</th>\n",
       "      <th>RSMKs_128_8_4_2ref_2ref</th>\n",
       "      <th>RRSs_12_12_12_2ref_2ref</th>\n",
       "      <th>VRRSs_5_21_12_2ref_2ref</th>\n",
       "      <th>RSMKs_18_144_72_2ref_2ref</th>\n",
       "    </tr>\n",
       "    <tr>\n",
       "      <th>date</th>\n",
       "      <th></th>\n",
       "      <th></th>\n",
       "      <th></th>\n",
       "      <th></th>\n",
       "      <th></th>\n",
       "      <th></th>\n",
       "      <th></th>\n",
       "      <th></th>\n",
       "      <th></th>\n",
       "      <th></th>\n",
       "      <th></th>\n",
       "      <th></th>\n",
       "    </tr>\n",
       "  </thead>\n",
       "  <tbody>\n",
       "    <tr>\n",
       "      <th>2019-01-02 07:00:00</th>\n",
       "      <td>60.7500</td>\n",
       "      <td>246.3900</td>\n",
       "      <td>56.70</td>\n",
       "      <td>0.634561</td>\n",
       "      <td>0.228822</td>\n",
       "      <td>0.749770</td>\n",
       "      <td>-0.081572</td>\n",
       "      <td>0.754948</td>\n",
       "      <td>0.041974</td>\n",
       "      <td>0.452882</td>\n",
       "      <td>0.094300</td>\n",
       "      <td>-0.141763</td>\n",
       "    </tr>\n",
       "    <tr>\n",
       "      <th>2019-01-02 09:30:00</th>\n",
       "      <td>60.2000</td>\n",
       "      <td>246.3000</td>\n",
       "      <td>56.30</td>\n",
       "      <td>0.619485</td>\n",
       "      <td>-0.138271</td>\n",
       "      <td>0.516611</td>\n",
       "      <td>-0.159545</td>\n",
       "      <td>0.690752</td>\n",
       "      <td>0.037310</td>\n",
       "      <td>0.201226</td>\n",
       "      <td>-0.050731</td>\n",
       "      <td>-0.127774</td>\n",
       "    </tr>\n",
       "    <tr>\n",
       "      <th>2019-01-02 09:35:00</th>\n",
       "      <td>59.8500</td>\n",
       "      <td>246.5200</td>\n",
       "      <td>56.36</td>\n",
       "      <td>0.689500</td>\n",
       "      <td>-0.535564</td>\n",
       "      <td>0.191501</td>\n",
       "      <td>-0.104752</td>\n",
       "      <td>0.553376</td>\n",
       "      <td>0.027199</td>\n",
       "      <td>-0.217425</td>\n",
       "      <td>-0.069932</td>\n",
       "      <td>-0.117113</td>\n",
       "    </tr>\n",
       "    <tr>\n",
       "      <th>2019-01-02 09:40:00</th>\n",
       "      <td>60.0600</td>\n",
       "      <td>246.9001</td>\n",
       "      <td>56.70</td>\n",
       "      <td>0.746596</td>\n",
       "      <td>-0.803242</td>\n",
       "      <td>-0.130051</td>\n",
       "      <td>-0.070761</td>\n",
       "      <td>0.402911</td>\n",
       "      <td>0.015511</td>\n",
       "      <td>-0.473000</td>\n",
       "      <td>-0.089949</td>\n",
       "      <td>-0.109966</td>\n",
       "    </tr>\n",
       "    <tr>\n",
       "      <th>2019-01-02 09:45:00</th>\n",
       "      <td>60.2350</td>\n",
       "      <td>247.1400</td>\n",
       "      <td>56.69</td>\n",
       "      <td>0.701637</td>\n",
       "      <td>-0.936439</td>\n",
       "      <td>-0.409001</td>\n",
       "      <td>-0.130581</td>\n",
       "      <td>0.263664</td>\n",
       "      <td>0.003868</td>\n",
       "      <td>-0.679096</td>\n",
       "      <td>-0.096488</td>\n",
       "      <td>-0.105561</td>\n",
       "    </tr>\n",
       "    <tr>\n",
       "      <th>...</th>\n",
       "      <td>...</td>\n",
       "      <td>...</td>\n",
       "      <td>...</td>\n",
       "      <td>...</td>\n",
       "      <td>...</td>\n",
       "      <td>...</td>\n",
       "      <td>...</td>\n",
       "      <td>...</td>\n",
       "      <td>...</td>\n",
       "      <td>...</td>\n",
       "      <td>...</td>\n",
       "      <td>...</td>\n",
       "    </tr>\n",
       "    <tr>\n",
       "      <th>2020-12-31 17:35:00</th>\n",
       "      <td>17.3300</td>\n",
       "      <td>374.2100</td>\n",
       "      <td>37.90</td>\n",
       "      <td>0.706492</td>\n",
       "      <td>-0.129955</td>\n",
       "      <td>-0.551704</td>\n",
       "      <td>0.197178</td>\n",
       "      <td>-0.842459</td>\n",
       "      <td>-0.216290</td>\n",
       "      <td>-3.579407</td>\n",
       "      <td>-0.088556</td>\n",
       "      <td>-1.118991</td>\n",
       "    </tr>\n",
       "    <tr>\n",
       "      <th>2020-12-31 18:30:00</th>\n",
       "      <td>17.3200</td>\n",
       "      <td>374.4000</td>\n",
       "      <td>37.96</td>\n",
       "      <td>0.615936</td>\n",
       "      <td>-0.147461</td>\n",
       "      <td>-0.538942</td>\n",
       "      <td>0.174563</td>\n",
       "      <td>-0.803874</td>\n",
       "      <td>-0.213881</td>\n",
       "      <td>-3.258388</td>\n",
       "      <td>-0.075389</td>\n",
       "      <td>-1.179880</td>\n",
       "    </tr>\n",
       "    <tr>\n",
       "      <th>2020-12-31 19:15:00</th>\n",
       "      <td>17.3600</td>\n",
       "      <td>374.3900</td>\n",
       "      <td>37.95</td>\n",
       "      <td>0.605291</td>\n",
       "      <td>-0.105155</td>\n",
       "      <td>-0.508192</td>\n",
       "      <td>0.226633</td>\n",
       "      <td>-0.756699</td>\n",
       "      <td>-0.210656</td>\n",
       "      <td>-2.735903</td>\n",
       "      <td>-0.063731</td>\n",
       "      <td>-1.239256</td>\n",
       "    </tr>\n",
       "    <tr>\n",
       "      <th>2020-12-31 19:20:00</th>\n",
       "      <td>17.3501</td>\n",
       "      <td>374.3900</td>\n",
       "      <td>37.95</td>\n",
       "      <td>0.592393</td>\n",
       "      <td>-0.065321</td>\n",
       "      <td>-0.475375</td>\n",
       "      <td>0.268617</td>\n",
       "      <td>-0.720279</td>\n",
       "      <td>-0.207647</td>\n",
       "      <td>-2.416748</td>\n",
       "      <td>-0.053941</td>\n",
       "      <td>-1.297199</td>\n",
       "    </tr>\n",
       "    <tr>\n",
       "      <th>2020-12-31 19:55:00</th>\n",
       "      <td>17.4000</td>\n",
       "      <td>374.3900</td>\n",
       "      <td>37.95</td>\n",
       "      <td>0.504877</td>\n",
       "      <td>0.054870</td>\n",
       "      <td>-0.408612</td>\n",
       "      <td>0.198019</td>\n",
       "      <td>-0.664792</td>\n",
       "      <td>-0.201618</td>\n",
       "      <td>-2.009522</td>\n",
       "      <td>-0.045287</td>\n",
       "      <td>-1.352772</td>\n",
       "    </tr>\n",
       "  </tbody>\n",
       "</table>\n",
       "<p>53398 rows × 12 columns</p>\n",
       "</div>"
      ],
      "text/plain": [
       "                       close  ref_close  sec_close  RVOLs_50_12_2ref_2ref  \\\n",
       "date                                                                        \n",
       "2019-01-02 07:00:00  60.7500   246.3900      56.70               0.634561   \n",
       "2019-01-02 09:30:00  60.2000   246.3000      56.30               0.619485   \n",
       "2019-01-02 09:35:00  59.8500   246.5200      56.36               0.689500   \n",
       "2019-01-02 09:40:00  60.0600   246.9001      56.70               0.746596   \n",
       "2019-01-02 09:45:00  60.2350   247.1400      56.69               0.701637   \n",
       "...                      ...        ...        ...                    ...   \n",
       "2020-12-31 17:35:00  17.3300   374.2100      37.90               0.706492   \n",
       "2020-12-31 18:30:00  17.3200   374.4000      37.96               0.615936   \n",
       "2020-12-31 19:15:00  17.3600   374.3900      37.95               0.605291   \n",
       "2020-12-31 19:20:00  17.3501   374.3900      37.95               0.592393   \n",
       "2020-12-31 19:55:00  17.4000   374.3900      37.95               0.504877   \n",
       "\n",
       "                     MACDVs_3_10_9_2ref_2ref  MACDVs_8_24_9_2ref_2ref  \\\n",
       "date                                                                    \n",
       "2019-01-02 07:00:00                 0.228822                 0.749770   \n",
       "2019-01-02 09:30:00                -0.138271                 0.516611   \n",
       "2019-01-02 09:35:00                -0.535564                 0.191501   \n",
       "2019-01-02 09:40:00                -0.803242                -0.130051   \n",
       "2019-01-02 09:45:00                -0.936439                -0.409001   \n",
       "...                                      ...                      ...   \n",
       "2020-12-31 17:35:00                -0.129955                -0.551704   \n",
       "2020-12-31 18:30:00                -0.147461                -0.538942   \n",
       "2020-12-31 19:15:00                -0.105155                -0.508192   \n",
       "2020-12-31 19:20:00                -0.065321                -0.475375   \n",
       "2020-12-31 19:55:00                 0.054870                -0.408612   \n",
       "\n",
       "                     RRVOLs_50_12_2ref_2ref  RSMKs_3_24_12_2ref_2ref  \\\n",
       "date                                                                   \n",
       "2019-01-02 07:00:00               -0.081572                 0.754948   \n",
       "2019-01-02 09:30:00               -0.159545                 0.690752   \n",
       "2019-01-02 09:35:00               -0.104752                 0.553376   \n",
       "2019-01-02 09:40:00               -0.070761                 0.402911   \n",
       "2019-01-02 09:45:00               -0.130581                 0.263664   \n",
       "...                                     ...                      ...   \n",
       "2020-12-31 17:35:00                0.197178                -0.842459   \n",
       "2020-12-31 18:30:00                0.174563                -0.803874   \n",
       "2020-12-31 19:15:00                0.226633                -0.756699   \n",
       "2020-12-31 19:20:00                0.268617                -0.720279   \n",
       "2020-12-31 19:55:00                0.198019                -0.664792   \n",
       "\n",
       "                     RSMKs_128_8_4_2ref_2ref  RRSs_12_12_12_2ref_2ref  \\\n",
       "date                                                                    \n",
       "2019-01-02 07:00:00                 0.041974                 0.452882   \n",
       "2019-01-02 09:30:00                 0.037310                 0.201226   \n",
       "2019-01-02 09:35:00                 0.027199                -0.217425   \n",
       "2019-01-02 09:40:00                 0.015511                -0.473000   \n",
       "2019-01-02 09:45:00                 0.003868                -0.679096   \n",
       "...                                      ...                      ...   \n",
       "2020-12-31 17:35:00                -0.216290                -3.579407   \n",
       "2020-12-31 18:30:00                -0.213881                -3.258388   \n",
       "2020-12-31 19:15:00                -0.210656                -2.735903   \n",
       "2020-12-31 19:20:00                -0.207647                -2.416748   \n",
       "2020-12-31 19:55:00                -0.201618                -2.009522   \n",
       "\n",
       "                     VRRSs_5_21_12_2ref_2ref  RSMKs_18_144_72_2ref_2ref  \n",
       "date                                                                     \n",
       "2019-01-02 07:00:00                 0.094300                  -0.141763  \n",
       "2019-01-02 09:30:00                -0.050731                  -0.127774  \n",
       "2019-01-02 09:35:00                -0.069932                  -0.117113  \n",
       "2019-01-02 09:40:00                -0.089949                  -0.109966  \n",
       "2019-01-02 09:45:00                -0.096488                  -0.105561  \n",
       "...                                      ...                        ...  \n",
       "2020-12-31 17:35:00                -0.088556                  -1.118991  \n",
       "2020-12-31 18:30:00                -0.075389                  -1.179880  \n",
       "2020-12-31 19:15:00                -0.063731                  -1.239256  \n",
       "2020-12-31 19:20:00                -0.053941                  -1.297199  \n",
       "2020-12-31 19:55:00                -0.045287                  -1.352772  \n",
       "\n",
       "[53398 rows x 12 columns]"
      ]
     },
     "execution_count": 112,
     "metadata": {},
     "output_type": "execute_result"
    }
   ],
   "source": [
    "f = ds.root_path + '/' + ds.data_path\n",
    "df = pd.read_csv(f).set_index('date', drop=False)\n",
    "df = df[ds.cols[1:]]\n",
    "# df[:] = ds.scaler.transform(df.values)\n",
    "df\n",
    "# df"
   ]
  },
  {
   "cell_type": "code",
   "execution_count": 129,
   "id": "95f31a0e",
   "metadata": {
    "ExecuteTime": {
     "end_time": "2022-11-28T06:03:58.540981Z",
     "start_time": "2022-11-28T06:03:58.391515Z"
    }
   },
   "outputs": [
    {
     "data": {
      "text/plain": [
       "array([ 1.25000000e+01,  3.52880000e+02,  3.54100000e+01,  7.80450949e-01,\n",
       "        9.82722730e-01,  5.37977462e-01,  8.07709812e-02, -2.64457225e-01,\n",
       "       -1.43769087e-01,  4.38652607e-01,  1.86131098e-01, -3.70741650e+00])"
      ]
     },
     "execution_count": 129,
     "metadata": {},
     "output_type": "execute_result"
    }
   ],
   "source": [
    "from data_provider.data_loader import Dataset_Custom\n",
    "ds2 = Dataset_Custom(\n",
    "    ds.root_path,\n",
    "    flag=\"test\",\n",
    "#     size=ds.size,\n",
    "    features=ds.features,\n",
    "    data_path=ds.data_path,\n",
    "    target=ds.target,\n",
    "    scale=False,\n",
    "    timeenc=ds.timeenc,\n",
    "    freq=ds.freq\n",
    ")\n",
    "\n",
    "(batch_x, batch_y, batch_x_mark, batch_y_mark)  = ds2[i]\n",
    "batch_x[-1]"
   ]
  },
  {
   "cell_type": "code",
   "execution_count": null,
   "id": "96b70f74",
   "metadata": {
    "ExecuteTime": {
     "end_time": "2022-11-28T06:01:19.928649Z",
     "start_time": "2022-11-28T06:01:19.909555Z"
    }
   },
   "outputs": [],
   "source": []
  },
  {
   "cell_type": "code",
   "execution_count": 130,
   "id": "9a324721",
   "metadata": {
    "ExecuteTime": {
     "end_time": "2022-11-28T06:04:00.891901Z",
     "start_time": "2022-11-28T06:04:00.878942Z"
    }
   },
   "outputs": [
    {
     "data": {
      "text/plain": [
       "close                         12.720000\n",
       "ref_close                    350.630000\n",
       "sec_close                     35.720000\n",
       "RVOLs_50_12_2ref_2ref          0.253561\n",
       "MACDVs_3_10_9_2ref_2ref       -0.258574\n",
       "MACDVs_8_24_9_2ref_2ref       -0.449367\n",
       "RRVOLs_50_12_2ref_2ref        -0.148139\n",
       "RSMKs_3_24_12_2ref_2ref       -0.424728\n",
       "RSMKs_128_8_4_2ref_2ref       -0.150821\n",
       "RRSs_12_12_12_2ref_2ref       -4.458638\n",
       "VRRSs_5_21_12_2ref_2ref       -0.035404\n",
       "RSMKs_18_144_72_2ref_2ref     -2.292316\n",
       "Name: 2020-09-01 08:05:00, dtype: float64"
      ]
     },
     "execution_count": 130,
     "metadata": {},
     "output_type": "execute_result"
    }
   ],
   "source": [
    "dt = ds2.index.iloc[i]\n",
    "df.loc[dt]"
   ]
  },
  {
   "cell_type": "code",
   "execution_count": 131,
   "id": "7672e83e",
   "metadata": {
    "ExecuteTime": {
     "end_time": "2022-11-28T06:04:07.801626Z",
     "start_time": "2022-11-28T06:04:07.779799Z"
    }
   },
   "outputs": [
    {
     "data": {
      "text/html": [
       "<div>\n",
       "<style scoped>\n",
       "    .dataframe tbody tr th:only-of-type {\n",
       "        vertical-align: middle;\n",
       "    }\n",
       "\n",
       "    .dataframe tbody tr th {\n",
       "        vertical-align: top;\n",
       "    }\n",
       "\n",
       "    .dataframe thead th {\n",
       "        text-align: right;\n",
       "    }\n",
       "</style>\n",
       "<table border=\"1\" class=\"dataframe\">\n",
       "  <thead>\n",
       "    <tr style=\"text-align: right;\">\n",
       "      <th></th>\n",
       "      <th>close</th>\n",
       "      <th>ref_close</th>\n",
       "      <th>sec_close</th>\n",
       "      <th>RVOLs_50_12_2ref_2ref</th>\n",
       "      <th>MACDVs_3_10_9_2ref_2ref</th>\n",
       "      <th>MACDVs_8_24_9_2ref_2ref</th>\n",
       "      <th>RRVOLs_50_12_2ref_2ref</th>\n",
       "      <th>RSMKs_3_24_12_2ref_2ref</th>\n",
       "      <th>RSMKs_128_8_4_2ref_2ref</th>\n",
       "      <th>RRSs_12_12_12_2ref_2ref</th>\n",
       "      <th>VRRSs_5_21_12_2ref_2ref</th>\n",
       "      <th>RSMKs_18_144_72_2ref_2ref</th>\n",
       "    </tr>\n",
       "    <tr>\n",
       "      <th>date</th>\n",
       "      <th></th>\n",
       "      <th></th>\n",
       "      <th></th>\n",
       "      <th></th>\n",
       "      <th></th>\n",
       "      <th></th>\n",
       "      <th></th>\n",
       "      <th></th>\n",
       "      <th></th>\n",
       "      <th></th>\n",
       "      <th></th>\n",
       "      <th></th>\n",
       "    </tr>\n",
       "  </thead>\n",
       "  <tbody>\n",
       "    <tr>\n",
       "      <th>2020-09-01 07:05:00</th>\n",
       "      <td>12.78</td>\n",
       "      <td>351.02</td>\n",
       "      <td>35.71</td>\n",
       "      <td>0.193038</td>\n",
       "      <td>0.139308</td>\n",
       "      <td>-0.167503</td>\n",
       "      <td>-0.457840</td>\n",
       "      <td>-0.120366</td>\n",
       "      <td>-0.097117</td>\n",
       "      <td>-1.113143</td>\n",
       "      <td>-0.057836</td>\n",
       "      <td>-2.129797</td>\n",
       "    </tr>\n",
       "    <tr>\n",
       "      <th>2020-09-01 07:15:00</th>\n",
       "      <td>12.72</td>\n",
       "      <td>350.83</td>\n",
       "      <td>35.76</td>\n",
       "      <td>0.172246</td>\n",
       "      <td>0.054992</td>\n",
       "      <td>-0.167238</td>\n",
       "      <td>-0.389511</td>\n",
       "      <td>-0.147534</td>\n",
       "      <td>-0.104186</td>\n",
       "      <td>-1.869118</td>\n",
       "      <td>-0.087983</td>\n",
       "      <td>-2.147435</td>\n",
       "    </tr>\n",
       "    <tr>\n",
       "      <th>2020-09-01 07:20:00</th>\n",
       "      <td>12.70</td>\n",
       "      <td>350.80</td>\n",
       "      <td>35.70</td>\n",
       "      <td>0.185312</td>\n",
       "      <td>-0.078002</td>\n",
       "      <td>-0.211485</td>\n",
       "      <td>-0.306203</td>\n",
       "      <td>-0.198667</td>\n",
       "      <td>-0.115042</td>\n",
       "      <td>-2.702641</td>\n",
       "      <td>-0.110004</td>\n",
       "      <td>-2.165641</td>\n",
       "    </tr>\n",
       "    <tr>\n",
       "      <th>2020-09-01 07:25:00</th>\n",
       "      <td>12.72</td>\n",
       "      <td>350.70</td>\n",
       "      <td>35.65</td>\n",
       "      <td>0.192109</td>\n",
       "      <td>-0.164477</td>\n",
       "      <td>-0.258804</td>\n",
       "      <td>-0.284154</td>\n",
       "      <td>-0.255096</td>\n",
       "      <td>-0.123646</td>\n",
       "      <td>-3.397736</td>\n",
       "      <td>-0.104798</td>\n",
       "      <td>-2.183736</td>\n",
       "    </tr>\n",
       "    <tr>\n",
       "      <th>2020-09-01 07:30:00</th>\n",
       "      <td>12.73</td>\n",
       "      <td>350.50</td>\n",
       "      <td>35.66</td>\n",
       "      <td>0.225091</td>\n",
       "      <td>-0.201191</td>\n",
       "      <td>-0.295878</td>\n",
       "      <td>-0.229570</td>\n",
       "      <td>-0.285606</td>\n",
       "      <td>-0.132584</td>\n",
       "      <td>-3.782116</td>\n",
       "      <td>-0.069555</td>\n",
       "      <td>-2.201911</td>\n",
       "    </tr>\n",
       "    <tr>\n",
       "      <th>2020-09-01 07:40:00</th>\n",
       "      <td>12.72</td>\n",
       "      <td>350.56</td>\n",
       "      <td>35.67</td>\n",
       "      <td>0.192338</td>\n",
       "      <td>-0.232440</td>\n",
       "      <td>-0.334591</td>\n",
       "      <td>-0.414401</td>\n",
       "      <td>-0.320162</td>\n",
       "      <td>-0.140044</td>\n",
       "      <td>-4.080456</td>\n",
       "      <td>-0.062384</td>\n",
       "      <td>-2.220361</td>\n",
       "    </tr>\n",
       "    <tr>\n",
       "      <th>2020-09-01 07:45:00</th>\n",
       "      <td>12.71</td>\n",
       "      <td>350.54</td>\n",
       "      <td>35.67</td>\n",
       "      <td>0.172743</td>\n",
       "      <td>-0.274229</td>\n",
       "      <td>-0.380497</td>\n",
       "      <td>-0.416034</td>\n",
       "      <td>-0.356426</td>\n",
       "      <td>-0.145459</td>\n",
       "      <td>-4.530481</td>\n",
       "      <td>-0.056956</td>\n",
       "      <td>-2.239216</td>\n",
       "    </tr>\n",
       "    <tr>\n",
       "      <th>2020-09-01 07:50:00</th>\n",
       "      <td>12.72</td>\n",
       "      <td>350.49</td>\n",
       "      <td>35.70</td>\n",
       "      <td>0.148786</td>\n",
       "      <td>-0.289147</td>\n",
       "      <td>-0.417921</td>\n",
       "      <td>-0.358402</td>\n",
       "      <td>-0.382376</td>\n",
       "      <td>-0.147811</td>\n",
       "      <td>-4.467765</td>\n",
       "      <td>-0.033833</td>\n",
       "      <td>-2.257165</td>\n",
       "    </tr>\n",
       "    <tr>\n",
       "      <th>2020-09-01 08:00:00</th>\n",
       "      <td>12.72</td>\n",
       "      <td>350.63</td>\n",
       "      <td>35.71</td>\n",
       "      <td>0.231278</td>\n",
       "      <td>-0.276805</td>\n",
       "      <td>-0.436961</td>\n",
       "      <td>-0.233196</td>\n",
       "      <td>-0.404503</td>\n",
       "      <td>-0.150513</td>\n",
       "      <td>-4.532557</td>\n",
       "      <td>-0.031680</td>\n",
       "      <td>-2.275121</td>\n",
       "    </tr>\n",
       "    <tr>\n",
       "      <th>2020-09-01 08:05:00</th>\n",
       "      <td>12.72</td>\n",
       "      <td>350.63</td>\n",
       "      <td>35.72</td>\n",
       "      <td>0.253561</td>\n",
       "      <td>-0.258574</td>\n",
       "      <td>-0.449367</td>\n",
       "      <td>-0.148139</td>\n",
       "      <td>-0.424728</td>\n",
       "      <td>-0.150821</td>\n",
       "      <td>-4.458638</td>\n",
       "      <td>-0.035404</td>\n",
       "      <td>-2.292316</td>\n",
       "    </tr>\n",
       "  </tbody>\n",
       "</table>\n",
       "</div>"
      ],
      "text/plain": [
       "                     close  ref_close  sec_close  RVOLs_50_12_2ref_2ref  \\\n",
       "date                                                                      \n",
       "2020-09-01 07:05:00  12.78     351.02      35.71               0.193038   \n",
       "2020-09-01 07:15:00  12.72     350.83      35.76               0.172246   \n",
       "2020-09-01 07:20:00  12.70     350.80      35.70               0.185312   \n",
       "2020-09-01 07:25:00  12.72     350.70      35.65               0.192109   \n",
       "2020-09-01 07:30:00  12.73     350.50      35.66               0.225091   \n",
       "2020-09-01 07:40:00  12.72     350.56      35.67               0.192338   \n",
       "2020-09-01 07:45:00  12.71     350.54      35.67               0.172743   \n",
       "2020-09-01 07:50:00  12.72     350.49      35.70               0.148786   \n",
       "2020-09-01 08:00:00  12.72     350.63      35.71               0.231278   \n",
       "2020-09-01 08:05:00  12.72     350.63      35.72               0.253561   \n",
       "\n",
       "                     MACDVs_3_10_9_2ref_2ref  MACDVs_8_24_9_2ref_2ref  \\\n",
       "date                                                                    \n",
       "2020-09-01 07:05:00                 0.139308                -0.167503   \n",
       "2020-09-01 07:15:00                 0.054992                -0.167238   \n",
       "2020-09-01 07:20:00                -0.078002                -0.211485   \n",
       "2020-09-01 07:25:00                -0.164477                -0.258804   \n",
       "2020-09-01 07:30:00                -0.201191                -0.295878   \n",
       "2020-09-01 07:40:00                -0.232440                -0.334591   \n",
       "2020-09-01 07:45:00                -0.274229                -0.380497   \n",
       "2020-09-01 07:50:00                -0.289147                -0.417921   \n",
       "2020-09-01 08:00:00                -0.276805                -0.436961   \n",
       "2020-09-01 08:05:00                -0.258574                -0.449367   \n",
       "\n",
       "                     RRVOLs_50_12_2ref_2ref  RSMKs_3_24_12_2ref_2ref  \\\n",
       "date                                                                   \n",
       "2020-09-01 07:05:00               -0.457840                -0.120366   \n",
       "2020-09-01 07:15:00               -0.389511                -0.147534   \n",
       "2020-09-01 07:20:00               -0.306203                -0.198667   \n",
       "2020-09-01 07:25:00               -0.284154                -0.255096   \n",
       "2020-09-01 07:30:00               -0.229570                -0.285606   \n",
       "2020-09-01 07:40:00               -0.414401                -0.320162   \n",
       "2020-09-01 07:45:00               -0.416034                -0.356426   \n",
       "2020-09-01 07:50:00               -0.358402                -0.382376   \n",
       "2020-09-01 08:00:00               -0.233196                -0.404503   \n",
       "2020-09-01 08:05:00               -0.148139                -0.424728   \n",
       "\n",
       "                     RSMKs_128_8_4_2ref_2ref  RRSs_12_12_12_2ref_2ref  \\\n",
       "date                                                                    \n",
       "2020-09-01 07:05:00                -0.097117                -1.113143   \n",
       "2020-09-01 07:15:00                -0.104186                -1.869118   \n",
       "2020-09-01 07:20:00                -0.115042                -2.702641   \n",
       "2020-09-01 07:25:00                -0.123646                -3.397736   \n",
       "2020-09-01 07:30:00                -0.132584                -3.782116   \n",
       "2020-09-01 07:40:00                -0.140044                -4.080456   \n",
       "2020-09-01 07:45:00                -0.145459                -4.530481   \n",
       "2020-09-01 07:50:00                -0.147811                -4.467765   \n",
       "2020-09-01 08:00:00                -0.150513                -4.532557   \n",
       "2020-09-01 08:05:00                -0.150821                -4.458638   \n",
       "\n",
       "                     VRRSs_5_21_12_2ref_2ref  RSMKs_18_144_72_2ref_2ref  \n",
       "date                                                                     \n",
       "2020-09-01 07:05:00                -0.057836                  -2.129797  \n",
       "2020-09-01 07:15:00                -0.087983                  -2.147435  \n",
       "2020-09-01 07:20:00                -0.110004                  -2.165641  \n",
       "2020-09-01 07:25:00                -0.104798                  -2.183736  \n",
       "2020-09-01 07:30:00                -0.069555                  -2.201911  \n",
       "2020-09-01 07:40:00                -0.062384                  -2.220361  \n",
       "2020-09-01 07:45:00                -0.056956                  -2.239216  \n",
       "2020-09-01 07:50:00                -0.033833                  -2.257165  \n",
       "2020-09-01 08:00:00                -0.031680                  -2.275121  \n",
       "2020-09-01 08:05:00                -0.035404                  -2.292316  "
      ]
     },
     "execution_count": 131,
     "metadata": {},
     "output_type": "execute_result"
    }
   ],
   "source": [
    "df.loc[:dt].tail(10)"
   ]
  },
  {
   "cell_type": "code",
   "execution_count": 132,
   "id": "910f7951",
   "metadata": {
    "ExecuteTime": {
     "end_time": "2022-11-28T06:04:08.155567Z",
     "start_time": "2022-11-28T06:04:08.136362Z"
    }
   },
   "outputs": [
    {
     "data": {
      "text/html": [
       "<div>\n",
       "<style scoped>\n",
       "    .dataframe tbody tr th:only-of-type {\n",
       "        vertical-align: middle;\n",
       "    }\n",
       "\n",
       "    .dataframe tbody tr th {\n",
       "        vertical-align: top;\n",
       "    }\n",
       "\n",
       "    .dataframe thead th {\n",
       "        text-align: right;\n",
       "    }\n",
       "</style>\n",
       "<table border=\"1\" class=\"dataframe\">\n",
       "  <thead>\n",
       "    <tr style=\"text-align: right;\">\n",
       "      <th></th>\n",
       "      <th>close</th>\n",
       "      <th>ref_close</th>\n",
       "      <th>sec_close</th>\n",
       "      <th>RVOLs_50_12_2ref_2ref</th>\n",
       "      <th>MACDVs_3_10_9_2ref_2ref</th>\n",
       "      <th>MACDVs_8_24_9_2ref_2ref</th>\n",
       "      <th>RRVOLs_50_12_2ref_2ref</th>\n",
       "      <th>RSMKs_3_24_12_2ref_2ref</th>\n",
       "      <th>RSMKs_128_8_4_2ref_2ref</th>\n",
       "      <th>RRSs_12_12_12_2ref_2ref</th>\n",
       "      <th>VRRSs_5_21_12_2ref_2ref</th>\n",
       "      <th>RSMKs_18_144_72_2ref_2ref</th>\n",
       "    </tr>\n",
       "    <tr>\n",
       "      <th>date</th>\n",
       "      <th></th>\n",
       "      <th></th>\n",
       "      <th></th>\n",
       "      <th></th>\n",
       "      <th></th>\n",
       "      <th></th>\n",
       "      <th></th>\n",
       "      <th></th>\n",
       "      <th></th>\n",
       "      <th></th>\n",
       "      <th></th>\n",
       "      <th></th>\n",
       "    </tr>\n",
       "  </thead>\n",
       "  <tbody>\n",
       "    <tr>\n",
       "      <th>2020-09-01 08:05:00</th>\n",
       "      <td>12.7200</td>\n",
       "      <td>350.63</td>\n",
       "      <td>35.7200</td>\n",
       "      <td>0.253561</td>\n",
       "      <td>-0.258574</td>\n",
       "      <td>-0.449367</td>\n",
       "      <td>-0.148139</td>\n",
       "      <td>-0.424728</td>\n",
       "      <td>-0.150821</td>\n",
       "      <td>-4.458638</td>\n",
       "      <td>-0.035404</td>\n",
       "      <td>-2.292316</td>\n",
       "    </tr>\n",
       "    <tr>\n",
       "      <th>2020-09-01 08:10:00</th>\n",
       "      <td>12.7100</td>\n",
       "      <td>350.65</td>\n",
       "      <td>35.7100</td>\n",
       "      <td>0.377474</td>\n",
       "      <td>-0.257495</td>\n",
       "      <td>-0.464872</td>\n",
       "      <td>-0.056481</td>\n",
       "      <td>-0.439078</td>\n",
       "      <td>-0.149315</td>\n",
       "      <td>-3.802018</td>\n",
       "      <td>-0.059968</td>\n",
       "      <td>-2.308917</td>\n",
       "    </tr>\n",
       "    <tr>\n",
       "      <th>2020-09-01 08:15:00</th>\n",
       "      <td>12.7200</td>\n",
       "      <td>350.67</td>\n",
       "      <td>35.7000</td>\n",
       "      <td>0.333210</td>\n",
       "      <td>-0.238231</td>\n",
       "      <td>-0.470690</td>\n",
       "      <td>-0.050828</td>\n",
       "      <td>-0.429932</td>\n",
       "      <td>-0.147446</td>\n",
       "      <td>-3.118936</td>\n",
       "      <td>-0.048271</td>\n",
       "      <td>-2.325404</td>\n",
       "    </tr>\n",
       "    <tr>\n",
       "      <th>2020-09-01 08:20:00</th>\n",
       "      <td>12.7400</td>\n",
       "      <td>350.69</td>\n",
       "      <td>35.7000</td>\n",
       "      <td>0.332308</td>\n",
       "      <td>-0.170788</td>\n",
       "      <td>-0.448436</td>\n",
       "      <td>-0.034869</td>\n",
       "      <td>-0.433898</td>\n",
       "      <td>-0.145277</td>\n",
       "      <td>-2.634433</td>\n",
       "      <td>0.017789</td>\n",
       "      <td>-2.340819</td>\n",
       "    </tr>\n",
       "    <tr>\n",
       "      <th>2020-09-01 08:25:00</th>\n",
       "      <td>12.7000</td>\n",
       "      <td>350.75</td>\n",
       "      <td>35.6900</td>\n",
       "      <td>0.412416</td>\n",
       "      <td>-0.177005</td>\n",
       "      <td>-0.446322</td>\n",
       "      <td>0.035903</td>\n",
       "      <td>-0.458732</td>\n",
       "      <td>-0.144407</td>\n",
       "      <td>-2.273931</td>\n",
       "      <td>-0.074174</td>\n",
       "      <td>-2.357595</td>\n",
       "    </tr>\n",
       "    <tr>\n",
       "      <th>2020-09-01 08:45:00</th>\n",
       "      <td>12.7200</td>\n",
       "      <td>350.90</td>\n",
       "      <td>35.7200</td>\n",
       "      <td>0.396500</td>\n",
       "      <td>-0.163743</td>\n",
       "      <td>-0.437072</td>\n",
       "      <td>0.053250</td>\n",
       "      <td>-0.491988</td>\n",
       "      <td>-0.143145</td>\n",
       "      <td>-1.893402</td>\n",
       "      <td>-0.078288</td>\n",
       "      <td>-2.374942</td>\n",
       "    </tr>\n",
       "    <tr>\n",
       "      <th>2020-09-01 08:50:00</th>\n",
       "      <td>12.7200</td>\n",
       "      <td>350.65</td>\n",
       "      <td>35.7300</td>\n",
       "      <td>0.624533</td>\n",
       "      <td>-0.144462</td>\n",
       "      <td>-0.424847</td>\n",
       "      <td>0.224395</td>\n",
       "      <td>-0.536655</td>\n",
       "      <td>-0.141796</td>\n",
       "      <td>-1.570535</td>\n",
       "      <td>-0.055490</td>\n",
       "      <td>-2.392740</td>\n",
       "    </tr>\n",
       "    <tr>\n",
       "      <th>2020-09-01 08:55:00</th>\n",
       "      <td>12.7000</td>\n",
       "      <td>350.32</td>\n",
       "      <td>35.7000</td>\n",
       "      <td>0.612150</td>\n",
       "      <td>-0.167709</td>\n",
       "      <td>-0.428442</td>\n",
       "      <td>0.164079</td>\n",
       "      <td>-0.588308</td>\n",
       "      <td>-0.140547</td>\n",
       "      <td>-1.379467</td>\n",
       "      <td>-0.056093</td>\n",
       "      <td>-2.411249</td>\n",
       "    </tr>\n",
       "    <tr>\n",
       "      <th>2020-09-01 09:00:00</th>\n",
       "      <td>12.6702</td>\n",
       "      <td>350.00</td>\n",
       "      <td>35.6500</td>\n",
       "      <td>0.801189</td>\n",
       "      <td>-0.253867</td>\n",
       "      <td>-0.463291</td>\n",
       "      <td>0.362784</td>\n",
       "      <td>-0.631686</td>\n",
       "      <td>-0.140254</td>\n",
       "      <td>-1.113389</td>\n",
       "      <td>-0.096814</td>\n",
       "      <td>-2.430535</td>\n",
       "    </tr>\n",
       "    <tr>\n",
       "      <th>2020-09-01 09:05:00</th>\n",
       "      <td>12.6700</td>\n",
       "      <td>349.67</td>\n",
       "      <td>35.6001</td>\n",
       "      <td>0.725914</td>\n",
       "      <td>-0.341901</td>\n",
       "      <td>-0.513973</td>\n",
       "      <td>0.187611</td>\n",
       "      <td>-0.685693</td>\n",
       "      <td>-0.139431</td>\n",
       "      <td>-0.708685</td>\n",
       "      <td>-0.078523</td>\n",
       "      <td>-2.450620</td>\n",
       "    </tr>\n",
       "  </tbody>\n",
       "</table>\n",
       "</div>"
      ],
      "text/plain": [
       "                       close  ref_close  sec_close  RVOLs_50_12_2ref_2ref  \\\n",
       "date                                                                        \n",
       "2020-09-01 08:05:00  12.7200     350.63    35.7200               0.253561   \n",
       "2020-09-01 08:10:00  12.7100     350.65    35.7100               0.377474   \n",
       "2020-09-01 08:15:00  12.7200     350.67    35.7000               0.333210   \n",
       "2020-09-01 08:20:00  12.7400     350.69    35.7000               0.332308   \n",
       "2020-09-01 08:25:00  12.7000     350.75    35.6900               0.412416   \n",
       "2020-09-01 08:45:00  12.7200     350.90    35.7200               0.396500   \n",
       "2020-09-01 08:50:00  12.7200     350.65    35.7300               0.624533   \n",
       "2020-09-01 08:55:00  12.7000     350.32    35.7000               0.612150   \n",
       "2020-09-01 09:00:00  12.6702     350.00    35.6500               0.801189   \n",
       "2020-09-01 09:05:00  12.6700     349.67    35.6001               0.725914   \n",
       "\n",
       "                     MACDVs_3_10_9_2ref_2ref  MACDVs_8_24_9_2ref_2ref  \\\n",
       "date                                                                    \n",
       "2020-09-01 08:05:00                -0.258574                -0.449367   \n",
       "2020-09-01 08:10:00                -0.257495                -0.464872   \n",
       "2020-09-01 08:15:00                -0.238231                -0.470690   \n",
       "2020-09-01 08:20:00                -0.170788                -0.448436   \n",
       "2020-09-01 08:25:00                -0.177005                -0.446322   \n",
       "2020-09-01 08:45:00                -0.163743                -0.437072   \n",
       "2020-09-01 08:50:00                -0.144462                -0.424847   \n",
       "2020-09-01 08:55:00                -0.167709                -0.428442   \n",
       "2020-09-01 09:00:00                -0.253867                -0.463291   \n",
       "2020-09-01 09:05:00                -0.341901                -0.513973   \n",
       "\n",
       "                     RRVOLs_50_12_2ref_2ref  RSMKs_3_24_12_2ref_2ref  \\\n",
       "date                                                                   \n",
       "2020-09-01 08:05:00               -0.148139                -0.424728   \n",
       "2020-09-01 08:10:00               -0.056481                -0.439078   \n",
       "2020-09-01 08:15:00               -0.050828                -0.429932   \n",
       "2020-09-01 08:20:00               -0.034869                -0.433898   \n",
       "2020-09-01 08:25:00                0.035903                -0.458732   \n",
       "2020-09-01 08:45:00                0.053250                -0.491988   \n",
       "2020-09-01 08:50:00                0.224395                -0.536655   \n",
       "2020-09-01 08:55:00                0.164079                -0.588308   \n",
       "2020-09-01 09:00:00                0.362784                -0.631686   \n",
       "2020-09-01 09:05:00                0.187611                -0.685693   \n",
       "\n",
       "                     RSMKs_128_8_4_2ref_2ref  RRSs_12_12_12_2ref_2ref  \\\n",
       "date                                                                    \n",
       "2020-09-01 08:05:00                -0.150821                -4.458638   \n",
       "2020-09-01 08:10:00                -0.149315                -3.802018   \n",
       "2020-09-01 08:15:00                -0.147446                -3.118936   \n",
       "2020-09-01 08:20:00                -0.145277                -2.634433   \n",
       "2020-09-01 08:25:00                -0.144407                -2.273931   \n",
       "2020-09-01 08:45:00                -0.143145                -1.893402   \n",
       "2020-09-01 08:50:00                -0.141796                -1.570535   \n",
       "2020-09-01 08:55:00                -0.140547                -1.379467   \n",
       "2020-09-01 09:00:00                -0.140254                -1.113389   \n",
       "2020-09-01 09:05:00                -0.139431                -0.708685   \n",
       "\n",
       "                     VRRSs_5_21_12_2ref_2ref  RSMKs_18_144_72_2ref_2ref  \n",
       "date                                                                     \n",
       "2020-09-01 08:05:00                -0.035404                  -2.292316  \n",
       "2020-09-01 08:10:00                -0.059968                  -2.308917  \n",
       "2020-09-01 08:15:00                -0.048271                  -2.325404  \n",
       "2020-09-01 08:20:00                 0.017789                  -2.340819  \n",
       "2020-09-01 08:25:00                -0.074174                  -2.357595  \n",
       "2020-09-01 08:45:00                -0.078288                  -2.374942  \n",
       "2020-09-01 08:50:00                -0.055490                  -2.392740  \n",
       "2020-09-01 08:55:00                -0.056093                  -2.411249  \n",
       "2020-09-01 09:00:00                -0.096814                  -2.430535  \n",
       "2020-09-01 09:05:00                -0.078523                  -2.450620  "
      ]
     },
     "execution_count": 132,
     "metadata": {},
     "output_type": "execute_result"
    }
   ],
   "source": [
    "df.loc[dt:].head(10)"
   ]
  },
  {
   "cell_type": "code",
   "execution_count": null,
   "id": "29852e6b",
   "metadata": {
    "ExecuteTime": {
     "end_time": "2022-11-28T05:54:40.421346Z",
     "start_time": "2022-11-28T05:54:40.403132Z"
    }
   },
   "outputs": [],
   "source": []
  },
  {
   "cell_type": "code",
   "execution_count": null,
   "id": "b5bdd08e",
   "metadata": {},
   "outputs": [],
   "source": []
  },
  {
   "cell_type": "code",
   "execution_count": null,
   "id": "5ebb795d",
   "metadata": {},
   "outputs": [],
   "source": []
  },
  {
   "cell_type": "code",
   "execution_count": null,
   "id": "04019450",
   "metadata": {},
   "outputs": [],
   "source": []
  }
 ],
 "metadata": {
  "kernelspec": {
   "display_name": "deeptime",
   "language": "python",
   "name": "deeptime"
  },
  "language_info": {
   "codemirror_mode": {
    "name": "ipython",
    "version": 3
   },
   "file_extension": ".py",
   "mimetype": "text/x-python",
   "name": "python",
   "nbconvert_exporter": "python",
   "pygments_lexer": "ipython3",
   "version": "3.8.13"
  },
  "toc": {
   "base_numbering": 1,
   "nav_menu": {},
   "number_sections": true,
   "sideBar": true,
   "skip_h1_title": false,
   "title_cell": "Table of Contents",
   "title_sidebar": "Contents",
   "toc_cell": false,
   "toc_position": {},
   "toc_section_display": true,
   "toc_window_display": false
  }
 },
 "nbformat": 4,
 "nbformat_minor": 5
}
