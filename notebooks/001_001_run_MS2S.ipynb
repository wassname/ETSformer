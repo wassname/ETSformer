{
 "cells": [
  {
   "cell_type": "code",
   "execution_count": 1,
   "id": "d1559174",
   "metadata": {
    "ExecuteTime": {
     "end_time": "2022-11-28T08:06:55.731972Z",
     "start_time": "2022-11-28T08:06:55.730182Z"
    }
   },
   "outputs": [],
   "source": [
    "import os\n",
    "os.sys.path.append('..')"
   ]
  },
  {
   "cell_type": "code",
   "execution_count": 2,
   "id": "61b1369e",
   "metadata": {
    "ExecuteTime": {
     "end_time": "2022-11-28T08:06:55.760248Z",
     "start_time": "2022-11-28T08:06:55.733246Z"
    }
   },
   "outputs": [],
   "source": [
    "import warnings\n",
    "warnings.simplefilter(\"ignore\")\n",
    "\n",
    "# autoreload import your package\n",
    "%load_ext autoreload\n",
    "%autoreload 2"
   ]
  },
  {
   "cell_type": "code",
   "execution_count": 3,
   "id": "94cb38fd",
   "metadata": {
    "ExecuteTime": {
     "end_time": "2022-11-28T08:06:55.780884Z",
     "start_time": "2022-11-28T08:06:55.762049Z"
    }
   },
   "outputs": [],
   "source": [
    "from loguru import logger\n",
    "logger.remove()\n",
    "logger.add(os.sys.stdout, level=\"ERROR\", colorize=True, format=\"<level>{time} | {message}</level>\")\n",
    "# import_dir(ta_dir, verbose=False)\n",
    "warnings.simplefilter(\"ignore\")"
   ]
  },
  {
   "cell_type": "code",
   "execution_count": 4,
   "id": "a58d9d6f",
   "metadata": {
    "ExecuteTime": {
     "end_time": "2022-11-28T08:06:56.489497Z",
     "start_time": "2022-11-28T08:06:55.781984Z"
    }
   },
   "outputs": [],
   "source": [
    "import torch\n",
    "import pandas as pd\n",
    "from matplotlib import pyplot as plt\n",
    "%matplotlib inline"
   ]
  },
  {
   "cell_type": "markdown",
   "id": "77f600e7",
   "metadata": {},
   "source": [
    "# Args"
   ]
  },
  {
   "cell_type": "code",
   "execution_count": 5,
   "id": "b46f211d",
   "metadata": {
    "ExecuteTime": {
     "end_time": "2022-11-28T08:06:56.762126Z",
     "start_time": "2022-11-28T08:06:56.490469Z"
    }
   },
   "outputs": [],
   "source": [
    "from run import set_seed, get_args, Exp_Main"
   ]
  },
  {
   "cell_type": "code",
   "execution_count": 6,
   "id": "dcc0f57b",
   "metadata": {
    "ExecuteTime": {
     "end_time": "2022-11-28T08:48:29.460882Z",
     "start_time": "2022-11-28T08:06:56.763160Z"
    }
   },
   "outputs": [
    {
     "name": "stdout",
     "output_type": "stream",
     "text": [
      "Args in experiment:\n",
      "Namespace(K=0, activation='sigmoid', batch_size=32, c_out=1, checkpoints='./checkpoints/', d_ff=2048, d_layers=3, d_model=512, damping_learning_rate=0, data='custom', data_path='OXY_2019.csv.gz', dec_in=7, des=\"'Exp'\", devices='0,1,2,3', dropout=0.2, e_layers=3, embed='timeF', enc_in=12, features='M2S', freq='h', gpu=0, itr=1, label_len=0, learning_rate=0.0003, lradj='exponential_with_warmup', min_lr=1e-30, model='ETSformer', model_id='Exchange', n_heads=8, num_workers=0, optim='adam', output_attention=False, patience=5, pred_len=48, root_path='../dataset/stocks/', seq_len=256, smoothing_learning_rate=0, std=0.2, target='RSMKs_18_144_72_2ref_2ref', train_epochs=15, use_gpu=True, use_multi_gpu=False, warmup_epochs=3)\n",
      "Use GPU: cuda:0\n",
      ">>>>>>>start training : Exchange_ETSformer_custom_ftM2S_sl256_pl48_dm512_nh8_el3_dl3_df2048_K0_lr0.0003_'Exp'_0>>>>>>>>>>>>>>>>>>>>>>>>>>\n",
      "train 37075\n",
      "val 5294\n",
      "test 10632\n"
     ]
    },
    {
     "data": {
      "application/vnd.jupyter.widget-view+json": {
       "model_id": "85f7ec0327cb49e1a18c800612f4382d",
       "version_major": 2,
       "version_minor": 0
      },
      "text/plain": [
       "  0%|          | 0/15 [00:00<?, ?epoch/s]"
      ]
     },
     "metadata": {},
     "output_type": "display_data"
    },
    {
     "data": {
      "application/vnd.jupyter.widget-view+json": {
       "model_id": "",
       "version_major": 2,
       "version_minor": 0
      },
      "text/plain": [
       "train:   0%|          | 0/1158 [00:00<?, ?it/s]"
      ]
     },
     "metadata": {},
     "output_type": "display_data"
    },
    {
     "name": "stdout",
     "output_type": "stream",
     "text": [
      "Epoch: 1, Steps: 1158 | Train Loss: 0.3039489 Vali Loss: 0.0921374 Test Loss: 0.1340459\n",
      "Validation loss decreased (inf --> 0.092137).  Saving model ...\n",
      "Updating learning rate to 7.5e-05\n"
     ]
    },
    {
     "data": {
      "application/vnd.jupyter.widget-view+json": {
       "model_id": "",
       "version_major": 2,
       "version_minor": 0
      },
      "text/plain": [
       "train:   0%|          | 0/1158 [00:00<?, ?it/s]"
      ]
     },
     "metadata": {},
     "output_type": "display_data"
    },
    {
     "name": "stdout",
     "output_type": "stream",
     "text": [
      "Epoch: 2, Steps: 1158 | Train Loss: 0.2563745 Vali Loss: 0.0417388 Test Loss: 0.0712016\n",
      "Validation loss decreased (0.092137 --> 0.041739).  Saving model ...\n",
      "Updating learning rate to 0.00015\n"
     ]
    },
    {
     "data": {
      "application/vnd.jupyter.widget-view+json": {
       "model_id": "",
       "version_major": 2,
       "version_minor": 0
      },
      "text/plain": [
       "train:   0%|          | 0/1158 [00:00<?, ?it/s]"
      ]
     },
     "metadata": {},
     "output_type": "display_data"
    },
    {
     "name": "stdout",
     "output_type": "stream",
     "text": [
      "Epoch: 3, Steps: 1158 | Train Loss: 0.2333940 Vali Loss: 0.0330352 Test Loss: 0.0573823\n",
      "Validation loss decreased (0.041739 --> 0.033035).  Saving model ...\n",
      "Updating learning rate to 0.000225\n"
     ]
    },
    {
     "data": {
      "application/vnd.jupyter.widget-view+json": {
       "model_id": "",
       "version_major": 2,
       "version_minor": 0
      },
      "text/plain": [
       "train:   0%|          | 0/1158 [00:00<?, ?it/s]"
      ]
     },
     "metadata": {},
     "output_type": "display_data"
    },
    {
     "name": "stdout",
     "output_type": "stream",
     "text": [
      "Epoch: 4, Steps: 1158 | Train Loss: 0.2121243 Vali Loss: 0.0315717 Test Loss: 0.0495963\n",
      "Validation loss decreased (0.033035 --> 0.031572).  Saving model ...\n",
      "Updating learning rate to 0.0003\n"
     ]
    },
    {
     "data": {
      "application/vnd.jupyter.widget-view+json": {
       "model_id": "",
       "version_major": 2,
       "version_minor": 0
      },
      "text/plain": [
       "train:   0%|          | 0/1158 [00:00<?, ?it/s]"
      ]
     },
     "metadata": {},
     "output_type": "display_data"
    },
    {
     "name": "stdout",
     "output_type": "stream",
     "text": [
      "Epoch: 5, Steps: 1158 | Train Loss: 0.2010674 Vali Loss: 0.0252529 Test Loss: 0.0422979\n",
      "Validation loss decreased (0.031572 --> 0.025253).  Saving model ...\n",
      "Updating learning rate to 0.00015\n"
     ]
    },
    {
     "data": {
      "application/vnd.jupyter.widget-view+json": {
       "model_id": "",
       "version_major": 2,
       "version_minor": 0
      },
      "text/plain": [
       "train:   0%|          | 0/1158 [00:00<?, ?it/s]"
      ]
     },
     "metadata": {},
     "output_type": "display_data"
    },
    {
     "name": "stdout",
     "output_type": "stream",
     "text": [
      "Epoch: 6, Steps: 1158 | Train Loss: 0.1899752 Vali Loss: 0.0233886 Test Loss: 0.0374318\n",
      "Validation loss decreased (0.025253 --> 0.023389).  Saving model ...\n",
      "Updating learning rate to 7.5e-05\n"
     ]
    },
    {
     "data": {
      "application/vnd.jupyter.widget-view+json": {
       "model_id": "",
       "version_major": 2,
       "version_minor": 0
      },
      "text/plain": [
       "train:   0%|          | 0/1158 [00:00<?, ?it/s]"
      ]
     },
     "metadata": {},
     "output_type": "display_data"
    },
    {
     "name": "stdout",
     "output_type": "stream",
     "text": [
      "Epoch: 7, Steps: 1158 | Train Loss: 0.1816380 Vali Loss: 0.0244228 Test Loss: 0.0401366\n",
      "EarlyStopping counter: 1 out of 5\n",
      "Updating learning rate to 3.75e-05\n"
     ]
    },
    {
     "data": {
      "application/vnd.jupyter.widget-view+json": {
       "model_id": "",
       "version_major": 2,
       "version_minor": 0
      },
      "text/plain": [
       "train:   0%|          | 0/1158 [00:00<?, ?it/s]"
      ]
     },
     "metadata": {},
     "output_type": "display_data"
    },
    {
     "name": "stdout",
     "output_type": "stream",
     "text": [
      "Epoch: 8, Steps: 1158 | Train Loss: 0.1756075 Vali Loss: 0.0271009 Test Loss: 0.0438157\n",
      "EarlyStopping counter: 2 out of 5\n",
      "Updating learning rate to 1.875e-05\n"
     ]
    },
    {
     "data": {
      "application/vnd.jupyter.widget-view+json": {
       "model_id": "",
       "version_major": 2,
       "version_minor": 0
      },
      "text/plain": [
       "train:   0%|          | 0/1158 [00:00<?, ?it/s]"
      ]
     },
     "metadata": {},
     "output_type": "display_data"
    },
    {
     "name": "stdout",
     "output_type": "stream",
     "text": [
      "Epoch: 9, Steps: 1158 | Train Loss: 0.1704306 Vali Loss: 0.0237322 Test Loss: 0.0405497\n",
      "EarlyStopping counter: 3 out of 5\n",
      "Updating learning rate to 9.375e-06\n"
     ]
    },
    {
     "data": {
      "application/vnd.jupyter.widget-view+json": {
       "model_id": "",
       "version_major": 2,
       "version_minor": 0
      },
      "text/plain": [
       "train:   0%|          | 0/1158 [00:00<?, ?it/s]"
      ]
     },
     "metadata": {},
     "output_type": "display_data"
    },
    {
     "name": "stdout",
     "output_type": "stream",
     "text": [
      "Epoch: 10, Steps: 1158 | Train Loss: 0.1624045 Vali Loss: 0.0244505 Test Loss: 0.0417811\n",
      "EarlyStopping counter: 4 out of 5\n",
      "Updating learning rate to 4.6875e-06\n"
     ]
    },
    {
     "data": {
      "application/vnd.jupyter.widget-view+json": {
       "model_id": "",
       "version_major": 2,
       "version_minor": 0
      },
      "text/plain": [
       "train:   0%|          | 0/1158 [00:00<?, ?it/s]"
      ]
     },
     "metadata": {},
     "output_type": "display_data"
    },
    {
     "name": "stdout",
     "output_type": "stream",
     "text": [
      "Epoch: 11, Steps: 1158 | Train Loss: 0.1756617 Vali Loss: 0.0242605 Test Loss: 0.0415354\n",
      "EarlyStopping counter: 5 out of 5\n",
      "Early stopping\n",
      ">>>>>>>testing : Exchange_ETSformer_custom_ftM2S_sl256_pl48_dm512_nh8_el3_dl3_df2048_K0_lr0.0003_'Exp'_0<<<<<<<<<<<<<<<<<<<<<<<<<<<<<<<<<\n",
      "val 5294\n",
      "loading model\n"
     ]
    },
    {
     "data": {
      "application/vnd.jupyter.widget-view+json": {
       "model_id": "",
       "version_major": 2,
       "version_minor": 0
      },
      "text/plain": [
       "  0%|          | 0/165 [00:00<?, ?it/s]"
      ]
     },
     "metadata": {},
     "output_type": "display_data"
    },
    {
     "name": "stdout",
     "output_type": "stream",
     "text": [
      "test shape: (165, 32, 48, 1) (165, 32, 48, 1)\n",
      "test shape: (5280, 48, 1) (5280, 48, 1)\n",
      "mse:0.023374028503894806, mae:0.11202067881822586\n",
      "test 10632\n",
      "loading model\n"
     ]
    },
    {
     "data": {
      "application/vnd.jupyter.widget-view+json": {
       "model_id": "",
       "version_major": 2,
       "version_minor": 0
      },
      "text/plain": [
       "  0%|          | 0/332 [00:00<?, ?it/s]"
      ]
     },
     "metadata": {},
     "output_type": "display_data"
    },
    {
     "name": "stdout",
     "output_type": "stream",
     "text": [
      "test shape: (332, 32, 48, 1) (332, 32, 48, 1)\n",
      "test shape: (10624, 48, 1) (10624, 48, 1)\n",
      "mse:0.037431780248880386, mae:0.13626551628112793\n"
     ]
    }
   ],
   "source": [
    "# mimic cli args to avoid code duplication\n",
    "argv = \"\"\"python -u run.py \\\n",
    "  --root_path ../dataset/stocks/ \\\n",
    "  --data_path OXY_2019.csv.gz \\\n",
    "  --checkpoints ./checkpoints/ \\\n",
    "  --model_id Exchange \\\n",
    "  --model ETSformer \\\n",
    "  --data custom \\\n",
    "  --features M2S \\\n",
    "  --seq_len 256 \\\n",
    "  --pred_len 48 \\\n",
    "  --e_layers 3 \\\n",
    "  --d_layers 3 \\\n",
    "  --enc_in 12 \\\n",
    "  --c_out 1 \\\n",
    "  --num_workers 0 \\\n",
    "  --des 'Exp' \\\n",
    "  --K 0 \\\n",
    "  --learning_rate 3e-4 \\\n",
    "  --target RSMKs_18_144_72_2ref_2ref \\\n",
    "  --itr 1\n",
    "\"\"\"\n",
    "argv = argv.replace(\"\\\\n\", \"\").split()[3:]\n",
    "args = get_args(argv)\n",
    "args\n",
    "\n",
    "\n",
    "Exp = Exp_Main\n",
    "ii=0\n",
    "set_seed(ii)\n",
    "# setting record of experiments\n",
    "setting = '{}_{}_{}_ft{}_sl{}_pl{}_dm{}_nh{}_el{}_dl{}_df{}_K{}_lr{}_{}_{}'.format(\n",
    "    args.model_id,\n",
    "    args.model,\n",
    "    args.data,\n",
    "    args.features,\n",
    "    args.seq_len,\n",
    "    args.pred_len,\n",
    "    args.d_model,\n",
    "    args.n_heads,\n",
    "    args.e_layers,\n",
    "    args.d_layers,\n",
    "    args.d_ff,\n",
    "    args.K,\n",
    "    args.learning_rate,\n",
    "    args.des, ii)\n",
    "\n",
    "#     if os.path.exists(os.path.join(args.checkpoints, setting)):\n",
    "#         print('skipping exists')\n",
    "#         continue\n",
    "\n",
    "exp = Exp(args)  # set experiments\n",
    "print('>>>>>>>start training : {}>>>>>>>>>>>>>>>>>>>>>>>>>>'.format(setting))\n",
    "exp.train(setting)\n",
    "\n",
    "print('>>>>>>>testing : {}<<<<<<<<<<<<<<<<<<<<<<<<<<<<<<<<<'.format(setting))\n",
    "exp.test(setting, data='val')\n",
    "exp.test(setting, data='test')\n",
    "\n",
    "torch.cuda.empty_cache()\n"
   ]
  },
  {
   "cell_type": "markdown",
   "id": "f4537246",
   "metadata": {
    "ExecuteTime": {
     "end_time": "2022-11-28T05:28:20.356399Z",
     "start_time": "2022-11-28T05:28:20.339961Z"
    }
   },
   "source": [
    "# Plot"
   ]
  },
  {
   "cell_type": "code",
   "execution_count": 7,
   "id": "0b01f395",
   "metadata": {
    "ExecuteTime": {
     "end_time": "2022-11-28T08:48:29.476894Z",
     "start_time": "2022-11-28T08:48:29.462100Z"
    }
   },
   "outputs": [
    {
     "data": {
      "text/plain": [
       "\"Exchange_ETSformer_custom_ftM2S_sl256_pl48_dm512_nh8_el3_dl3_df2048_K0_lr0.0003_'Exp'_0\""
      ]
     },
     "execution_count": 7,
     "metadata": {},
     "output_type": "execute_result"
    }
   ],
   "source": [
    "setting"
   ]
  },
  {
   "cell_type": "code",
   "execution_count": 8,
   "id": "76ee8bff",
   "metadata": {
    "ExecuteTime": {
     "end_time": "2022-11-28T08:48:29.627830Z",
     "start_time": "2022-11-28T08:48:29.477662Z"
    }
   },
   "outputs": [
    {
     "name": "stdout",
     "output_type": "stream",
     "text": [
      "test 10632\n"
     ]
    }
   ],
   "source": [
    "ds, dl = exp._get_data('test')"
   ]
  },
  {
   "cell_type": "code",
   "execution_count": 9,
   "id": "d2c5d0d4",
   "metadata": {
    "ExecuteTime": {
     "end_time": "2022-11-28T08:48:53.513692Z",
     "start_time": "2022-11-28T08:48:29.629849Z"
    }
   },
   "outputs": [
    {
     "name": "stdout",
     "output_type": "stream",
     "text": [
      "test 10632\n",
      "loading model\n"
     ]
    },
    {
     "data": {
      "application/vnd.jupyter.widget-view+json": {
       "model_id": "",
       "version_major": 2,
       "version_minor": 0
      },
      "text/plain": [
       "  0%|          | 0/332 [00:00<?, ?it/s]"
      ]
     },
     "metadata": {},
     "output_type": "display_data"
    },
    {
     "name": "stdout",
     "output_type": "stream",
     "text": [
      "test shape: (332, 32, 48, 1) (332, 32, 48, 1)\n",
      "test shape: (10624, 48, 1) (10624, 48, 1)\n",
      "mse:0.037431780248880386, mae:0.13626551628112793\n"
     ]
    }
   ],
   "source": [
    "preds, trues = exp.test(setting, data='test')"
   ]
  },
  {
   "cell_type": "code",
   "execution_count": 10,
   "id": "d2bbb184",
   "metadata": {
    "ExecuteTime": {
     "end_time": "2022-11-28T08:48:53.526965Z",
     "start_time": "2022-11-28T08:48:53.514947Z"
    }
   },
   "outputs": [],
   "source": [
    "%matplotlib inline"
   ]
  },
  {
   "cell_type": "code",
   "execution_count": 11,
   "id": "dc7db6a7",
   "metadata": {
    "ExecuteTime": {
     "end_time": "2022-11-28T08:48:53.647415Z",
     "start_time": "2022-11-28T08:48:53.528023Z"
    }
   },
   "outputs": [
    {
     "data": {
      "text/plain": [
       "<matplotlib.legend.Legend at 0x7fcbf8343be0>"
      ]
     },
     "execution_count": 11,
     "metadata": {},
     "output_type": "execute_result"
    },
    {
     "data": {
      "image/png": "[encoded data removed]",
      "text/plain": [
       "<Figure size 640x480 with 1 Axes>"
      ]
     },
     "metadata": {},
     "output_type": "display_data"
    }
   ],
   "source": [
    "i=990\n",
    "(batch_x, batch_y, batch_x_mark, batch_y_mark)  = ds[i]\n",
    "l1 = batch_x.shape[0]\n",
    "l2 = batch_y.shape[0]\n",
    "plt.plot(range(l1), batch_x[:, -1], label='past')\n",
    "plt.plot(range(l1, l1+l2), batch_y[:, -1], color='blue', ls='--', label='true')\n",
    "plt.plot(range(l1, l1+l2), preds[i], label='pred');\n",
    "plt.legend(loc='lower left')"
   ]
  },
  {
   "cell_type": "code",
   "execution_count": null,
   "id": "fff9cb48",
   "metadata": {
    "ExecuteTime": {
     "end_time": "2022-11-28T07:33:57.703528Z",
     "start_time": "2022-11-28T07:33:57.689258Z"
    }
   },
   "outputs": [],
   "source": []
  },
  {
   "cell_type": "markdown",
   "id": "a2555d9b",
   "metadata": {},
   "source": [
    "# TODO check index"
   ]
  },
  {
   "cell_type": "markdown",
   "id": "815cdbe5",
   "metadata": {},
   "source": [
    "- s_end = index + self.seq_len\n",
    "- r_begin = index + self.seq_len - self.label_len\n",
    "- r_end = index + self.seq_len + self.pred_len"
   ]
  },
  {
   "cell_type": "code",
   "execution_count": 12,
   "id": "abc903ba",
   "metadata": {
    "ExecuteTime": {
     "end_time": "2022-11-28T08:48:53.789777Z",
     "start_time": "2022-11-28T08:48:53.648714Z"
    },
    "scrolled": true
   },
   "outputs": [
    {
     "data": {
      "text/html": [
       "<div>\n",
       "<style scoped>\n",
       "    .dataframe tbody tr th:only-of-type {\n",
       "        vertical-align: middle;\n",
       "    }\n",
       "\n",
       "    .dataframe tbody tr th {\n",
       "        vertical-align: top;\n",
       "    }\n",
       "\n",
       "    .dataframe thead th {\n",
       "        text-align: right;\n",
       "    }\n",
       "</style>\n",
       "<table border=\"1\" class=\"dataframe\">\n",
       "  <thead>\n",
       "    <tr style=\"text-align: right;\">\n",
       "      <th></th>\n",
       "      <th>close</th>\n",
       "      <th>ref_close</th>\n",
       "      <th>sec_close</th>\n",
       "      <th>RVOLs_50_12_2ref_2ref</th>\n",
       "      <th>MACDVs_3_10_9_2ref_2ref</th>\n",
       "      <th>MACDVs_8_24_9_2ref_2ref</th>\n",
       "      <th>RRVOLs_50_12_2ref_2ref</th>\n",
       "      <th>RSMKs_3_24_12_2ref_2ref</th>\n",
       "      <th>RSMKs_128_8_4_2ref_2ref</th>\n",
       "      <th>RRSs_12_12_12_2ref_2ref</th>\n",
       "      <th>VRRSs_5_21_12_2ref_2ref</th>\n",
       "      <th>RSMKs_18_144_72_2ref_2ref</th>\n",
       "    </tr>\n",
       "    <tr>\n",
       "      <th>date</th>\n",
       "      <th></th>\n",
       "      <th></th>\n",
       "      <th></th>\n",
       "      <th></th>\n",
       "      <th></th>\n",
       "      <th></th>\n",
       "      <th></th>\n",
       "      <th></th>\n",
       "      <th></th>\n",
       "      <th></th>\n",
       "      <th></th>\n",
       "      <th></th>\n",
       "    </tr>\n",
       "  </thead>\n",
       "  <tbody>\n",
       "    <tr>\n",
       "      <th>2019-01-02 07:00:00</th>\n",
       "      <td>60.7500</td>\n",
       "      <td>246.3900</td>\n",
       "      <td>56.70</td>\n",
       "      <td>0.634561</td>\n",
       "      <td>0.228822</td>\n",
       "      <td>0.749770</td>\n",
       "      <td>-0.081572</td>\n",
       "      <td>0.754948</td>\n",
       "      <td>0.041974</td>\n",
       "      <td>0.452882</td>\n",
       "      <td>0.094300</td>\n",
       "      <td>-0.141763</td>\n",
       "    </tr>\n",
       "    <tr>\n",
       "      <th>2019-01-02 09:30:00</th>\n",
       "      <td>60.2000</td>\n",
       "      <td>246.3000</td>\n",
       "      <td>56.30</td>\n",
       "      <td>0.619485</td>\n",
       "      <td>-0.138271</td>\n",
       "      <td>0.516611</td>\n",
       "      <td>-0.159545</td>\n",
       "      <td>0.690752</td>\n",
       "      <td>0.037310</td>\n",
       "      <td>0.201226</td>\n",
       "      <td>-0.050731</td>\n",
       "      <td>-0.127774</td>\n",
       "    </tr>\n",
       "    <tr>\n",
       "      <th>2019-01-02 09:35:00</th>\n",
       "      <td>59.8500</td>\n",
       "      <td>246.5200</td>\n",
       "      <td>56.36</td>\n",
       "      <td>0.689500</td>\n",
       "      <td>-0.535564</td>\n",
       "      <td>0.191501</td>\n",
       "      <td>-0.104752</td>\n",
       "      <td>0.553376</td>\n",
       "      <td>0.027199</td>\n",
       "      <td>-0.217425</td>\n",
       "      <td>-0.069932</td>\n",
       "      <td>-0.117113</td>\n",
       "    </tr>\n",
       "    <tr>\n",
       "      <th>2019-01-02 09:40:00</th>\n",
       "      <td>60.0600</td>\n",
       "      <td>246.9001</td>\n",
       "      <td>56.70</td>\n",
       "      <td>0.746596</td>\n",
       "      <td>-0.803242</td>\n",
       "      <td>-0.130051</td>\n",
       "      <td>-0.070761</td>\n",
       "      <td>0.402911</td>\n",
       "      <td>0.015511</td>\n",
       "      <td>-0.473000</td>\n",
       "      <td>-0.089949</td>\n",
       "      <td>-0.109966</td>\n",
       "    </tr>\n",
       "    <tr>\n",
       "      <th>2019-01-02 09:45:00</th>\n",
       "      <td>60.2350</td>\n",
       "      <td>247.1400</td>\n",
       "      <td>56.69</td>\n",
       "      <td>0.701637</td>\n",
       "      <td>-0.936439</td>\n",
       "      <td>-0.409001</td>\n",
       "      <td>-0.130581</td>\n",
       "      <td>0.263664</td>\n",
       "      <td>0.003868</td>\n",
       "      <td>-0.679096</td>\n",
       "      <td>-0.096488</td>\n",
       "      <td>-0.105561</td>\n",
       "    </tr>\n",
       "    <tr>\n",
       "      <th>...</th>\n",
       "      <td>...</td>\n",
       "      <td>...</td>\n",
       "      <td>...</td>\n",
       "      <td>...</td>\n",
       "      <td>...</td>\n",
       "      <td>...</td>\n",
       "      <td>...</td>\n",
       "      <td>...</td>\n",
       "      <td>...</td>\n",
       "      <td>...</td>\n",
       "      <td>...</td>\n",
       "      <td>...</td>\n",
       "    </tr>\n",
       "    <tr>\n",
       "      <th>2020-12-31 17:35:00</th>\n",
       "      <td>17.3300</td>\n",
       "      <td>374.2100</td>\n",
       "      <td>37.90</td>\n",
       "      <td>0.706492</td>\n",
       "      <td>-0.129955</td>\n",
       "      <td>-0.551704</td>\n",
       "      <td>0.197178</td>\n",
       "      <td>-0.842459</td>\n",
       "      <td>-0.216290</td>\n",
       "      <td>-3.579407</td>\n",
       "      <td>-0.088556</td>\n",
       "      <td>-1.118991</td>\n",
       "    </tr>\n",
       "    <tr>\n",
       "      <th>2020-12-31 18:30:00</th>\n",
       "      <td>17.3200</td>\n",
       "      <td>374.4000</td>\n",
       "      <td>37.96</td>\n",
       "      <td>0.615936</td>\n",
       "      <td>-0.147461</td>\n",
       "      <td>-0.538942</td>\n",
       "      <td>0.174563</td>\n",
       "      <td>-0.803874</td>\n",
       "      <td>-0.213881</td>\n",
       "      <td>-3.258388</td>\n",
       "      <td>-0.075389</td>\n",
       "      <td>-1.179880</td>\n",
       "    </tr>\n",
       "    <tr>\n",
       "      <th>2020-12-31 19:15:00</th>\n",
       "      <td>17.3600</td>\n",
       "      <td>374.3900</td>\n",
       "      <td>37.95</td>\n",
       "      <td>0.605291</td>\n",
       "      <td>-0.105155</td>\n",
       "      <td>-0.508192</td>\n",
       "      <td>0.226633</td>\n",
       "      <td>-0.756699</td>\n",
       "      <td>-0.210656</td>\n",
       "      <td>-2.735903</td>\n",
       "      <td>-0.063731</td>\n",
       "      <td>-1.239256</td>\n",
       "    </tr>\n",
       "    <tr>\n",
       "      <th>2020-12-31 19:20:00</th>\n",
       "      <td>17.3501</td>\n",
       "      <td>374.3900</td>\n",
       "      <td>37.95</td>\n",
       "      <td>0.592393</td>\n",
       "      <td>-0.065321</td>\n",
       "      <td>-0.475375</td>\n",
       "      <td>0.268617</td>\n",
       "      <td>-0.720279</td>\n",
       "      <td>-0.207647</td>\n",
       "      <td>-2.416748</td>\n",
       "      <td>-0.053941</td>\n",
       "      <td>-1.297199</td>\n",
       "    </tr>\n",
       "    <tr>\n",
       "      <th>2020-12-31 19:55:00</th>\n",
       "      <td>17.4000</td>\n",
       "      <td>374.3900</td>\n",
       "      <td>37.95</td>\n",
       "      <td>0.504877</td>\n",
       "      <td>0.054870</td>\n",
       "      <td>-0.408612</td>\n",
       "      <td>0.198019</td>\n",
       "      <td>-0.664792</td>\n",
       "      <td>-0.201618</td>\n",
       "      <td>-2.009522</td>\n",
       "      <td>-0.045287</td>\n",
       "      <td>-1.352772</td>\n",
       "    </tr>\n",
       "  </tbody>\n",
       "</table>\n",
       "<p>53398 rows × 12 columns</p>\n",
       "</div>"
      ],
      "text/plain": [
       "                       close  ref_close  sec_close  RVOLs_50_12_2ref_2ref  \\\n",
       "date                                                                        \n",
       "2019-01-02 07:00:00  60.7500   246.3900      56.70               0.634561   \n",
       "2019-01-02 09:30:00  60.2000   246.3000      56.30               0.619485   \n",
       "2019-01-02 09:35:00  59.8500   246.5200      56.36               0.689500   \n",
       "2019-01-02 09:40:00  60.0600   246.9001      56.70               0.746596   \n",
       "2019-01-02 09:45:00  60.2350   247.1400      56.69               0.701637   \n",
       "...                      ...        ...        ...                    ...   \n",
       "2020-12-31 17:35:00  17.3300   374.2100      37.90               0.706492   \n",
       "2020-12-31 18:30:00  17.3200   374.4000      37.96               0.615936   \n",
       "2020-12-31 19:15:00  17.3600   374.3900      37.95               0.605291   \n",
       "2020-12-31 19:20:00  17.3501   374.3900      37.95               0.592393   \n",
       "2020-12-31 19:55:00  17.4000   374.3900      37.95               0.504877   \n",
       "\n",
       "                     MACDVs_3_10_9_2ref_2ref  MACDVs_8_24_9_2ref_2ref  \\\n",
       "date                                                                    \n",
       "2019-01-02 07:00:00                 0.228822                 0.749770   \n",
       "2019-01-02 09:30:00                -0.138271                 0.516611   \n",
       "2019-01-02 09:35:00                -0.535564                 0.191501   \n",
       "2019-01-02 09:40:00                -0.803242                -0.130051   \n",
       "2019-01-02 09:45:00                -0.936439                -0.409001   \n",
       "...                                      ...                      ...   \n",
       "2020-12-31 17:35:00                -0.129955                -0.551704   \n",
       "2020-12-31 18:30:00                -0.147461                -0.538942   \n",
       "2020-12-31 19:15:00                -0.105155                -0.508192   \n",
       "2020-12-31 19:20:00                -0.065321                -0.475375   \n",
       "2020-12-31 19:55:00                 0.054870                -0.408612   \n",
       "\n",
       "                     RRVOLs_50_12_2ref_2ref  RSMKs_3_24_12_2ref_2ref  \\\n",
       "date                                                                   \n",
       "2019-01-02 07:00:00               -0.081572                 0.754948   \n",
       "2019-01-02 09:30:00               -0.159545                 0.690752   \n",
       "2019-01-02 09:35:00               -0.104752                 0.553376   \n",
       "2019-01-02 09:40:00               -0.070761                 0.402911   \n",
       "2019-01-02 09:45:00               -0.130581                 0.263664   \n",
       "...                                     ...                      ...   \n",
       "2020-12-31 17:35:00                0.197178                -0.842459   \n",
       "2020-12-31 18:30:00                0.174563                -0.803874   \n",
       "2020-12-31 19:15:00                0.226633                -0.756699   \n",
       "2020-12-31 19:20:00                0.268617                -0.720279   \n",
       "2020-12-31 19:55:00                0.198019                -0.664792   \n",
       "\n",
       "                     RSMKs_128_8_4_2ref_2ref  RRSs_12_12_12_2ref_2ref  \\\n",
       "date                                                                    \n",
       "2019-01-02 07:00:00                 0.041974                 0.452882   \n",
       "2019-01-02 09:30:00                 0.037310                 0.201226   \n",
       "2019-01-02 09:35:00                 0.027199                -0.217425   \n",
       "2019-01-02 09:40:00                 0.015511                -0.473000   \n",
       "2019-01-02 09:45:00                 0.003868                -0.679096   \n",
       "...                                      ...                      ...   \n",
       "2020-12-31 17:35:00                -0.216290                -3.579407   \n",
       "2020-12-31 18:30:00                -0.213881                -3.258388   \n",
       "2020-12-31 19:15:00                -0.210656                -2.735903   \n",
       "2020-12-31 19:20:00                -0.207647                -2.416748   \n",
       "2020-12-31 19:55:00                -0.201618                -2.009522   \n",
       "\n",
       "                     VRRSs_5_21_12_2ref_2ref  RSMKs_18_144_72_2ref_2ref  \n",
       "date                                                                     \n",
       "2019-01-02 07:00:00                 0.094300                  -0.141763  \n",
       "2019-01-02 09:30:00                -0.050731                  -0.127774  \n",
       "2019-01-02 09:35:00                -0.069932                  -0.117113  \n",
       "2019-01-02 09:40:00                -0.089949                  -0.109966  \n",
       "2019-01-02 09:45:00                -0.096488                  -0.105561  \n",
       "...                                      ...                        ...  \n",
       "2020-12-31 17:35:00                -0.088556                  -1.118991  \n",
       "2020-12-31 18:30:00                -0.075389                  -1.179880  \n",
       "2020-12-31 19:15:00                -0.063731                  -1.239256  \n",
       "2020-12-31 19:20:00                -0.053941                  -1.297199  \n",
       "2020-12-31 19:55:00                -0.045287                  -1.352772  \n",
       "\n",
       "[53398 rows x 12 columns]"
      ]
     },
     "execution_count": 12,
     "metadata": {},
     "output_type": "execute_result"
    }
   ],
   "source": [
    "f = ds.root_path + '/' + ds.data_path\n",
    "df = pd.read_csv(f).set_index('date', drop=False)\n",
    "df = df[ds.cols[1:]]\n",
    "# df[:] = ds.scaler.transform(df.values)\n",
    "df\n",
    "# df"
   ]
  },
  {
   "cell_type": "code",
   "execution_count": 13,
   "id": "0dac417e",
   "metadata": {
    "ExecuteTime": {
     "end_time": "2022-11-28T08:48:53.923652Z",
     "start_time": "2022-11-28T08:48:53.790995Z"
    }
   },
   "outputs": [
    {
     "data": {
      "text/plain": [
       "array([ 1.24250000e+01,  3.54330000e+02,  3.52700000e+01,  6.24194744e-01,\n",
       "       -1.20630267e-01,  4.64484086e-01, -3.96678363e-01,  1.04169477e+00,\n",
       "       -2.88024043e-02, -4.61072831e-01, -9.81798622e-03, -3.57276350e+00])"
      ]
     },
     "execution_count": 13,
     "metadata": {},
     "output_type": "execute_result"
    }
   ],
   "source": [
    "from data_provider.data_loader import Dataset_Custom\n",
    "ds2 = Dataset_Custom(\n",
    "    ds.root_path,\n",
    "    flag=\"test\",\n",
    "#     size=ds.size,\n",
    "    size=[ds.seq_len, ds.label_len, ds.pred_len],\n",
    "    features=ds.features,\n",
    "    data_path=ds.data_path,\n",
    "    target=ds.target,\n",
    "    scale=False,\n",
    "    timeenc=ds.timeenc,\n",
    "    freq=ds.freq\n",
    ")\n",
    "\n",
    "i=99\n",
    "(batch_x, batch_y, batch_x_mark, batch_y_mark)  = ds2[i]\n",
    "batch_x[-1]"
   ]
  },
  {
   "cell_type": "code",
   "execution_count": 14,
   "id": "a6a5dff7",
   "metadata": {
    "ExecuteTime": {
     "end_time": "2022-11-28T08:48:53.941224Z",
     "start_time": "2022-11-28T08:48:53.924828Z"
    }
   },
   "outputs": [
    {
     "data": {
      "text/plain": [
       "close                         12.425000\n",
       "ref_close                    354.330000\n",
       "sec_close                     35.270000\n",
       "RVOLs_50_12_2ref_2ref          0.624195\n",
       "MACDVs_3_10_9_2ref_2ref       -0.120630\n",
       "MACDVs_8_24_9_2ref_2ref        0.464484\n",
       "RRVOLs_50_12_2ref_2ref        -0.396678\n",
       "RSMKs_3_24_12_2ref_2ref        1.041695\n",
       "RSMKs_128_8_4_2ref_2ref       -0.028802\n",
       "RRSs_12_12_12_2ref_2ref       -0.461073\n",
       "VRRSs_5_21_12_2ref_2ref       -0.009818\n",
       "RSMKs_18_144_72_2ref_2ref     -3.572763\n",
       "Name: 2020-09-02 11:20:00, dtype: float64"
      ]
     },
     "execution_count": 14,
     "metadata": {},
     "output_type": "execute_result"
    }
   ],
   "source": [
    "dt = ds2.index.iloc[i-1]\n",
    "df.loc[dt]"
   ]
  },
  {
   "cell_type": "code",
   "execution_count": 15,
   "id": "91a28ab0",
   "metadata": {
    "ExecuteTime": {
     "end_time": "2022-11-28T08:48:53.977072Z",
     "start_time": "2022-11-28T08:48:53.942153Z"
    }
   },
   "outputs": [
    {
     "data": {
      "text/plain": [
       "'OK'"
      ]
     },
     "execution_count": 15,
     "metadata": {},
     "output_type": "execute_result"
    }
   ],
   "source": [
    "assert df.loc[dt].close == batch_x[-1, 0], 'index should be right'\n",
    "'OK'"
   ]
  },
  {
   "cell_type": "code",
   "execution_count": null,
   "id": "35053a3c",
   "metadata": {},
   "outputs": [],
   "source": []
  },
  {
   "cell_type": "code",
   "execution_count": null,
   "id": "87fdb36f",
   "metadata": {},
   "outputs": [],
   "source": []
  },
  {
   "cell_type": "code",
   "execution_count": null,
   "id": "cf203a63",
   "metadata": {},
   "outputs": [],
   "source": []
  }
 ],
 "metadata": {
  "kernelspec": {
   "display_name": "deeptime",
   "language": "python",
   "name": "deeptime"
  },
  "language_info": {
   "codemirror_mode": {
    "name": "ipython",
    "version": 3
   },
   "file_extension": ".py",
   "mimetype": "text/x-python",
   "name": "python",
   "nbconvert_exporter": "python",
   "pygments_lexer": "ipython3",
   "version": "3.8.13"
  },
  "toc": {
   "base_numbering": 1,
   "nav_menu": {},
   "number_sections": true,
   "sideBar": true,
   "skip_h1_title": false,
   "title_cell": "Table of Contents",
   "title_sidebar": "Contents",
   "toc_cell": false,
   "toc_position": {},
   "toc_section_display": true,
   "toc_window_display": false
  }
 },
 "nbformat": 4,
 "nbformat_minor": 5
}
