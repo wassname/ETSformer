{
 "cells": [
  {
   "cell_type": "code",
   "execution_count": 1,
   "id": "0c996f31",
   "metadata": {
    "ExecuteTime": {
     "end_time": "2022-11-28T22:22:44.659299Z",
     "start_time": "2022-11-28T22:22:44.657630Z"
    }
   },
   "outputs": [],
   "source": [
    "import os\n",
    "os.sys.path.append('..')"
   ]
  },
  {
   "cell_type": "code",
   "execution_count": 2,
   "id": "3b256fea",
   "metadata": {
    "ExecuteTime": {
     "end_time": "2022-11-28T22:22:45.762889Z",
     "start_time": "2022-11-28T22:22:44.660036Z"
    }
   },
   "outputs": [],
   "source": [
    "import argparse\n",
    "import os\n",
    "import torch\n",
    "from exp.exp_main import Exp_Main\n",
    "import random\n",
    "import numpy as np\n"
   ]
  },
  {
   "cell_type": "code",
   "execution_count": 3,
   "id": "b780adb5",
   "metadata": {
    "ExecuteTime": {
     "end_time": "2022-11-28T22:22:45.769437Z",
     "start_time": "2022-11-28T22:22:45.764337Z"
    }
   },
   "outputs": [
    {
     "data": {
      "text/plain": [
       "exp.exp_main.Exp_Main"
      ]
     },
     "execution_count": 3,
     "metadata": {},
     "output_type": "execute_result"
    }
   ],
   "source": [
    "Exp = Exp_Main\n",
    "Exp"
   ]
  },
  {
   "cell_type": "code",
   "execution_count": 4,
   "id": "23a27691",
   "metadata": {
    "ExecuteTime": {
     "end_time": "2022-11-28T22:22:45.804455Z",
     "start_time": "2022-11-28T22:22:45.770278Z"
    }
   },
   "outputs": [],
   "source": [
    "import warnings\n",
    "warnings.simplefilter(\"ignore\")\n",
    "\n",
    "# autoreload import your package\n",
    "%load_ext autoreload\n",
    "%autoreload 2"
   ]
  },
  {
   "cell_type": "code",
   "execution_count": 5,
   "id": "e60bfdb0",
   "metadata": {
    "ExecuteTime": {
     "end_time": "2022-11-28T22:22:45.824009Z",
     "start_time": "2022-11-28T22:22:45.805505Z"
    }
   },
   "outputs": [],
   "source": [
    "from loguru import logger\n",
    "logger.remove()\n",
    "logger.add(os.sys.stdout, level=\"ERROR\", colorize=True, format=\"<level>{time} | {message}</level>\")\n",
    "# import_dir(ta_dir, verbose=False)\n",
    "warnings.simplefilter(\"ignore\")"
   ]
  },
  {
   "cell_type": "code",
   "execution_count": 6,
   "id": "d52338d2",
   "metadata": {
    "ExecuteTime": {
     "end_time": "2022-11-28T22:22:45.838232Z",
     "start_time": "2022-11-28T22:22:45.824847Z"
    }
   },
   "outputs": [],
   "source": [
    "import torch\n",
    "import pandas as pd\n",
    "from matplotlib import pyplot as plt\n",
    "%matplotlib inline"
   ]
  },
  {
   "cell_type": "markdown",
   "id": "20d78524",
   "metadata": {},
   "source": [
    "# Args"
   ]
  },
  {
   "cell_type": "code",
   "execution_count": 7,
   "id": "750cdcc3",
   "metadata": {
    "ExecuteTime": {
     "end_time": "2022-11-28T22:22:45.852523Z",
     "start_time": "2022-11-28T22:22:45.839094Z"
    }
   },
   "outputs": [],
   "source": [
    "from run import set_seed, get_args, Exp_Main"
   ]
  },
  {
   "cell_type": "code",
   "execution_count": 9,
   "id": "b3a40300",
   "metadata": {
    "ExecuteTime": {
     "end_time": "2022-11-28T22:23:31.380478Z",
     "start_time": "2022-11-28T22:22:50.139838Z"
    },
    "scrolled": true
   },
   "outputs": [
    {
     "name": "stdout",
     "output_type": "stream",
     "text": [
      "Args in experiment:\n",
      "Namespace(K=0, activation='sigmoid', batch_size=32, c_out=1, checkpoints='./checkpoints/', d_ff=2048, d_layers=2, d_model=512, damping_learning_rate=0, data='custom', data_path='exchange_rate.csv', dec_in=1, des=\"'Exp'\", devices='0,1,2,3', dropout=0.2, e_layers=2, embed='timeF', enc_in=1, features='S', freq='h', gpu=0, itr=1, label_len=0, learning_rate=0.001, lradj='exponential_with_warmup', min_lr=1e-30, model='ETSformer', model_id='Exchange', n_heads=8, num_workers=10, optim='adam', output_attention=False, patience=5, pred_len=96, root_path='../dataset/exchange_rate/', seq_len=96, smoothing_learning_rate=0, std=0.2, target='OT', train_epochs=15, use_gpu=True, use_multi_gpu=False, warmup_epochs=3)\n",
      "Use GPU: cuda:0\n",
      ">>>>>>>start training : Exchange_ETSformer_custom_ftS_sl96_pl96_dm512_nh8_el2_dl2_df2048_K0_lr0.001_'Exp'_0>>>>>>>>>>>>>>>>>>>>>>>>>>\n",
      "train 5120\n",
      "val 665\n",
      "test 1422\n",
      "\titers: 100, epoch: 1 | loss: 0.1855393\n",
      "\tspeed: 0.0262s/iter; left time: 60.1997s\n",
      "Epoch: 1 cost time: 4.017645359039307\n",
      "Epoch: 1, Steps: 160 | Train Loss: 0.3291200 Vali Loss: 0.1620757 Test Loss: 0.0996447\n",
      "Validation loss decreased (inf --> 0.162076).  Saving model ...\n",
      "Updating learning rate to 0.00025\n",
      "\titers: 100, epoch: 2 | loss: 0.3449063\n",
      "\tspeed: 0.0523s/iter; left time: 111.9286s\n",
      "Epoch: 2 cost time: 4.011619567871094\n",
      "Epoch: 2, Steps: 160 | Train Loss: 0.2371088 Vali Loss: 0.1372457 Test Loss: 0.0956475\n",
      "Validation loss decreased (0.162076 --> 0.137246).  Saving model ...\n",
      "Updating learning rate to 0.0005\n",
      "\titers: 100, epoch: 3 | loss: 0.1758220\n",
      "\tspeed: 0.0541s/iter; left time: 107.2494s\n",
      "Epoch: 3 cost time: 4.069975852966309\n",
      "Epoch: 3, Steps: 160 | Train Loss: 0.2245417 Vali Loss: 0.1412140 Test Loss: 0.0931368\n",
      "EarlyStopping counter: 1 out of 5\n",
      "Updating learning rate to 0.00075\n",
      "\titers: 100, epoch: 4 | loss: 0.2099838\n",
      "\tspeed: 0.0532s/iter; left time: 96.8687s\n",
      "Epoch: 4 cost time: 3.987823724746704\n",
      "Epoch: 4, Steps: 160 | Train Loss: 0.2288409 Vali Loss: 0.1397144 Test Loss: 0.0937123\n",
      "EarlyStopping counter: 2 out of 5\n",
      "Updating learning rate to 0.001\n",
      "\titers: 100, epoch: 5 | loss: 0.2285676\n",
      "\tspeed: 0.0525s/iter; left time: 87.2150s\n",
      "Epoch: 5 cost time: 4.027522563934326\n",
      "Epoch: 5, Steps: 160 | Train Loss: 0.2344545 Vali Loss: 0.1622206 Test Loss: 0.0896547\n",
      "EarlyStopping counter: 3 out of 5\n",
      "Updating learning rate to 0.0005\n",
      "\titers: 100, epoch: 6 | loss: 0.2818964\n",
      "\tspeed: 0.0529s/iter; left time: 79.3673s\n",
      "Epoch: 6 cost time: 4.119000196456909\n",
      "Epoch: 6, Steps: 160 | Train Loss: 0.2204486 Vali Loss: 0.1501924 Test Loss: 0.0886038\n",
      "EarlyStopping counter: 4 out of 5\n",
      "Updating learning rate to 0.00025\n",
      "\titers: 100, epoch: 7 | loss: 0.1605041\n",
      "\tspeed: 0.0566s/iter; left time: 75.9389s\n",
      "Epoch: 7 cost time: 4.324657917022705\n",
      "Epoch: 7, Steps: 160 | Train Loss: 0.2194144 Vali Loss: 0.1449849 Test Loss: 0.0917771\n",
      "EarlyStopping counter: 5 out of 5\n",
      "Early stopping\n",
      ">>>>>>>testing : Exchange_ETSformer_custom_ftS_sl96_pl96_dm512_nh8_el2_dl2_df2048_K0_lr0.001_'Exp'_0<<<<<<<<<<<<<<<<<<<<<<<<<<<<<<<<<\n",
      "val 665\n",
      "loading model\n",
      "test shape: (20, 32, 96, 1) (20, 32, 96, 1)\n",
      "test shape: (640, 96, 1) (640, 96, 1)\n",
      "mse:0.13651615381240845, mae:0.2945910394191742\n",
      "test 1422\n",
      "loading model\n",
      "test shape: (44, 32, 96, 1) (44, 32, 96, 1)\n",
      "test shape: (1408, 96, 1) (1408, 96, 1)\n",
      "mse:0.09564752131700516, mae:0.2282976359128952\n"
     ]
    }
   ],
   "source": [
    "# mimic cli args to avoid code duplication\n",
    "argv = \"\"\"python -u run.py \\\n",
    "  --root_path ../dataset/exchange_rate/ \\\n",
    "  --data_path exchange_rate.csv \\\n",
    "  --model_id Exchange \\\n",
    "  --model ETSformer \\\n",
    "  --data custom \\\n",
    "  --features S \\\n",
    "  --seq_len 96 \\\n",
    "  --pred_len 96 \\\n",
    "  --e_layers 2 \\\n",
    "  --d_layers 2 \\\n",
    "  --enc_in 1 \\\n",
    "  --dec_in 1 \\\n",
    "  --c_out 1 \\\n",
    "  --des 'Exp' \\\n",
    "  --K 0 \\\n",
    "  --learning_rate 1e-3 \\\n",
    "  --itr 1\n",
    "\"\"\"\n",
    "argv = argv.replace(\"\\\\n\", \"\").split()[3:]\n",
    "args = get_args(argv)\n",
    "args\n",
    "\n",
    "\n",
    "Exp = Exp_Main\n",
    "ii=0\n",
    "set_seed(ii)\n",
    "# setting record of experiments\n",
    "setting = '{}_{}_{}_ft{}_sl{}_pl{}_dm{}_nh{}_el{}_dl{}_df{}_K{}_lr{}_{}_{}'.format(\n",
    "    args.model_id,\n",
    "    args.model,\n",
    "    args.data,\n",
    "    args.features,\n",
    "    args.seq_len,\n",
    "    args.pred_len,\n",
    "    args.d_model,\n",
    "    args.n_heads,\n",
    "    args.e_layers,\n",
    "    args.d_layers,\n",
    "    args.d_ff,\n",
    "    args.K,\n",
    "    args.learning_rate,\n",
    "    args.des, ii)\n",
    "\n",
    "# if os.path.exists(os.path.join(args.checkpoints, setting)):\n",
    "#     print('skipping exists')\n",
    "#     continue\n",
    "\n",
    "exp = Exp(args)  # set experiments\n",
    "print('>>>>>>>start training : {}>>>>>>>>>>>>>>>>>>>>>>>>>>'.format(setting))\n",
    "exp.train(setting)\n",
    "\n",
    "print('>>>>>>>testing : {}<<<<<<<<<<<<<<<<<<<<<<<<<<<<<<<<<'.format(setting))\n",
    "exp.test(setting, data='val')\n",
    "exp.test(setting, data='test')\n",
    "\n",
    "torch.cuda.empty_cache()"
   ]
  },
  {
   "cell_type": "code",
   "execution_count": 10,
   "id": "a4576bab",
   "metadata": {
    "ExecuteTime": {
     "end_time": "2022-11-28T22:23:31.395648Z",
     "start_time": "2022-11-28T22:23:31.381989Z"
    },
    "scrolled": true
   },
   "outputs": [],
   "source": []
  },
  {
   "cell_type": "markdown",
   "id": "72811788",
   "metadata": {
    "ExecuteTime": {
     "end_time": "2022-11-28T05:28:20.356399Z",
     "start_time": "2022-11-28T05:28:20.339961Z"
    }
   },
   "source": [
    "# Plot"
   ]
  },
  {
   "cell_type": "code",
   "execution_count": 11,
   "id": "92b67ed7",
   "metadata": {
    "ExecuteTime": {
     "end_time": "2022-11-28T22:23:31.420696Z",
     "start_time": "2022-11-28T22:23:31.396542Z"
    }
   },
   "outputs": [
    {
     "data": {
      "text/plain": [
       "\"Exchange_ETSformer_custom_ftS_sl96_pl96_dm512_nh8_el2_dl2_df2048_K0_lr0.001_'Exp'_0\""
      ]
     },
     "execution_count": 11,
     "metadata": {},
     "output_type": "execute_result"
    }
   ],
   "source": [
    "setting"
   ]
  },
  {
   "cell_type": "code",
   "execution_count": 12,
   "id": "ebea79f7",
   "metadata": {
    "ExecuteTime": {
     "end_time": "2022-11-28T22:23:31.445965Z",
     "start_time": "2022-11-28T22:23:31.421995Z"
    }
   },
   "outputs": [
    {
     "name": "stdout",
     "output_type": "stream",
     "text": [
      "test 1422\n"
     ]
    }
   ],
   "source": [
    "ds, dl = exp._get_data('test')"
   ]
  },
  {
   "cell_type": "code",
   "execution_count": 13,
   "id": "9833f218",
   "metadata": {
    "ExecuteTime": {
     "end_time": "2022-11-28T22:23:32.217460Z",
     "start_time": "2022-11-28T22:23:31.446941Z"
    }
   },
   "outputs": [
    {
     "name": "stdout",
     "output_type": "stream",
     "text": [
      "test 1422\n",
      "loading model\n",
      "test shape: (44, 32, 96, 1) (44, 32, 96, 1)\n",
      "test shape: (1408, 96, 1) (1408, 96, 1)\n",
      "mse:0.09564752131700516, mae:0.2282976359128952\n"
     ]
    }
   ],
   "source": [
    "preds, trues = exp.test(setting, data='test')"
   ]
  },
  {
   "cell_type": "code",
   "execution_count": 14,
   "id": "658546f2",
   "metadata": {
    "ExecuteTime": {
     "end_time": "2022-11-28T22:23:32.231941Z",
     "start_time": "2022-11-28T22:23:32.218766Z"
    }
   },
   "outputs": [],
   "source": [
    "%matplotlib inline"
   ]
  },
  {
   "cell_type": "code",
   "execution_count": 15,
   "id": "5c88dbf7",
   "metadata": {
    "ExecuteTime": {
     "end_time": "2022-11-28T22:23:32.440081Z",
     "start_time": "2022-11-28T22:23:32.232751Z"
    }
   },
   "outputs": [
    {
     "data": {
      "text/plain": [
       "<matplotlib.legend.Legend at 0x7f692aef6730>"
      ]
     },
     "execution_count": 15,
     "metadata": {},
     "output_type": "execute_result"
    },
    {
     "data": {
      "image/png": "[encoded data removed]",
      "text/plain": [
       "<Figure size 640x480 with 1 Axes>"
      ]
     },
     "metadata": {},
     "output_type": "display_data"
    }
   ],
   "source": [
    "i=990\n",
    "(batch_x, batch_y, batch_x_mark, batch_y_mark)  = ds[i]\n",
    "l1 = batch_x.shape[0]\n",
    "l2 = batch_y.shape[0]\n",
    "plt.plot(range(l1), batch_x[:, -1], label='past')\n",
    "plt.plot(range(l1, l1+l2), batch_y[:, -1], color='blue', ls='--', label='true')\n",
    "plt.plot(range(l1, l1+l2), preds[i], label='pred');\n",
    "plt.legend(loc='lower left')"
   ]
  },
  {
   "cell_type": "code",
   "execution_count": null,
   "id": "692aadfa",
   "metadata": {},
   "outputs": [],
   "source": []
  },
  {
   "cell_type": "code",
   "execution_count": null,
   "id": "2dd11010",
   "metadata": {},
   "outputs": [],
   "source": []
  },
  {
   "cell_type": "code",
   "execution_count": null,
   "id": "e4413025",
   "metadata": {},
   "outputs": [],
   "source": []
  }
 ],
 "metadata": {
  "kernelspec": {
   "display_name": "deeptime",
   "language": "python",
   "name": "deeptime"
  },
  "language_info": {
   "codemirror_mode": {
    "name": "ipython",
    "version": 3
   },
   "file_extension": ".py",
   "mimetype": "text/x-python",
   "name": "python",
   "nbconvert_exporter": "python",
   "pygments_lexer": "ipython3",
   "version": "3.8.13"
  },
  "toc": {
   "base_numbering": 1,
   "nav_menu": {},
   "number_sections": true,
   "sideBar": true,
   "skip_h1_title": false,
   "title_cell": "Table of Contents",
   "title_sidebar": "Contents",
   "toc_cell": false,
   "toc_position": {},
   "toc_section_display": true,
   "toc_window_display": false
  }
 },
 "nbformat": 4,
 "nbformat_minor": 5
}
